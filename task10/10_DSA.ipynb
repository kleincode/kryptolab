{
 "cells": [
  {
   "cell_type": "markdown",
   "metadata": {},
   "source": [
    "# Task 10 - Digital Signature Algorithm (DSA)\n",
    "Krypto Lab\n",
    "\n",
    "Felix Kleinsteuber, 185709\n",
    "\n",
    "Der DSA basiert auf der Schwierigkeit diskreter Logarithmen. Er benötigt eine Hashfunktion."
   ]
  },
  {
   "cell_type": "code",
   "execution_count": 1,
   "metadata": {},
   "outputs": [],
   "source": [
    "import numpy as np\n",
    "import random\n",
    "from hashlib import sha1"
   ]
  },
  {
   "cell_type": "markdown",
   "metadata": {},
   "source": [
    "## 1. Generierung der Parameter\n",
    "Generiere\n",
    " * Primzahl $q$ der Länge $N = 160$\n",
    " * Primzahl $p = qk + 1, k \\in \\mathbb{N}$ der Länge $L = 1024$\n",
    " * Wähle zufälliges $1 < h < p - 1$, sodass $g = h^{\\frac{p-1}{q}} \\mod p \\neq 1$"
   ]
  },
  {
   "cell_type": "code",
   "execution_count": 2,
   "metadata": {},
   "outputs": [],
   "source": [
    "# aus Task 6\n",
    "def quad_and_mult(x, m, n):\n",
    "    \"\"\"Berechnet effizient x^m mod n.\"\"\"\n",
    "    y = 1\n",
    "    while m != 0:\n",
    "        if m & 0x1 != 0:\n",
    "            # falls bit=1: Multipliziere y mit x\n",
    "            y = (y * x) % n\n",
    "        # für jedes Bit wird x quadriert\n",
    "        x = (x * x) % n\n",
    "        # schiebe zum nächsten Bit\n",
    "        m >>= 1\n",
    "    return y"
   ]
  },
  {
   "cell_type": "code",
   "execution_count": 3,
   "metadata": {},
   "outputs": [],
   "source": [
    "# aus Task 7 (RSA Keygen)\n",
    "def miller_rabin_test(n):\n",
    "    \"\"\"Ist n prim? Gibt mit p < 1/4 True zurück, falls n zusammengesetzt ist (False Positive)\n",
    "    und sicher True, falls n eine Primzahl ist.\"\"\"\n",
    "    assert n > 2\n",
    "    # Bestimme ungerades m mit n - 1 = 2^k * m\n",
    "    m = n - 1\n",
    "    k = 0\n",
    "    while m & 0b1 == 0:\n",
    "        m >>= 1\n",
    "        k += 1\n",
    "    \n",
    "    # Wähle zufälliges 2 <= a < n\n",
    "    a = random.randrange(2, n)\n",
    "\n",
    "    # b = a^m mod n\n",
    "    b = quad_and_mult(a, m, n)\n",
    "\n",
    "    if b == 1:\n",
    "        return True\n",
    "    for i in range(k):\n",
    "        if b == n - 1:\n",
    "            return True\n",
    "        else:\n",
    "            b = (b * b) % n\n",
    "    return False\n",
    "\n",
    "# aus Task 7 (RSA Keygen)\n",
    "def is_prime(n):\n",
    "    \"\"\"Gibt True zurück, wenn mit sehr hoher Wahrscheinlichkeit (0.999999) prim ist. \"\"\"\n",
    "    for i in range(10):\n",
    "        if miller_rabin_test(n) == False:\n",
    "            return False\n",
    "    # mit p > 1 - (1/4)**10 = 0.999999... ist n prim\n",
    "    return True"
   ]
  },
  {
   "cell_type": "code",
   "execution_count": 4,
   "metadata": {},
   "outputs": [],
   "source": [
    "# Abgewandelt von look_for_prime (RSA Keygen)\n",
    "def look_for_prime(z):\n",
    "    # Sucht eine Primzahl q > 30 * z\n",
    "    for i in [1, 7, 11, 13, 17, 19, 23, 29]:\n",
    "        q = 30 * z + i\n",
    "        if is_prime(q):\n",
    "            return q\n",
    "    # Keine Primzahl gefunden, erhöhe z\n",
    "    return look_for_prime(z + 1)\n",
    "\n",
    "def find_qp(L, N, k_tries = int(1e6)):\n",
    "    # Las-Vegas-Algorithmus zur Suche zweier Primzahlen q (Bitlänge N) und p = qk + 1 (Bitlänge L), k=2,3,...\n",
    "    z = (((0b1 << (N - 1)) ^ random.getrandbits(N - 1)) + 30) // 30\n",
    "    q = look_for_prime(z)\n",
    "    if q.bit_length() != N:\n",
    "        print(f\"bit length is {q.bit_length()} (expected: {N})\")\n",
    "        # neuer Versuch für neues q\n",
    "        return find_qp(L, N)\n",
    "    # Suche passendes q\n",
    "    # Grobes Intervall für k (Bitlänge wird in Schleife verifiziert)\n",
    "    min_k = 2 ** (L - N)\n",
    "    max_k = 2 ** (L - N + 1) - 1\n",
    "    for t in range(k_tries):\n",
    "        k = random.randint(min_k, max_k)\n",
    "        p = q * k + 1\n",
    "        if p.bit_length() == L and is_prime(p):\n",
    "            return q, p\n",
    "    # alle k's probiert, neuer Versuch für p\n",
    "    print(f\"{k_tries} exceeded, generating new q\")\n",
    "    return find_qp(L, N)"
   ]
  },
  {
   "cell_type": "code",
   "execution_count": 5,
   "metadata": {},
   "outputs": [
    {
     "name": "stdout",
     "output_type": "stream",
     "text": [
      "160\n",
      "1024\n"
     ]
    }
   ],
   "source": [
    "# Test von find_qp\n",
    "q, p = find_qp(1024, 160)\n",
    "print(q.bit_length())\n",
    "print(p.bit_length())\n",
    "assert q.bit_length() == 160\n",
    "assert p.bit_length() == 1024\n",
    "# Muss gelten, da p = qk + 1\n",
    "assert (p - 1) % q == 0"
   ]
  },
  {
   "cell_type": "markdown",
   "metadata": {},
   "source": [
    "Die Laufzeit variiert zwischen Bruchteilen einer Sekunde und bis zu 20 Sekunden."
   ]
  },
  {
   "cell_type": "code",
   "execution_count": 6,
   "metadata": {},
   "outputs": [],
   "source": [
    "def find_params(L = 1024, N = 160):\n",
    "    # Generiert Parameter q, p und Pseudo-Generator g mit Ordnung q\n",
    "    q, p = find_qp(L, N)\n",
    "    g = 1\n",
    "    # Muss gelten, da p = qk + 1\n",
    "    assert (p - 1) % q == 0\n",
    "    # Finde g = h^((p-1)/q) mod p != 1\n",
    "    while g == 1:\n",
    "        h = random.randrange(2, p - 1)\n",
    "        g = quad_and_mult(h, (p - 1) // q, p)\n",
    "    return q, p, g"
   ]
  },
  {
   "cell_type": "code",
   "execution_count": 7,
   "metadata": {},
   "outputs": [
    {
     "name": "stdout",
     "output_type": "stream",
     "text": [
      "g = 8692799263289254552587755324480030927635798626404121382029904776864509534833152890958966488279048648269695523836184863401405502925892755196149737375023071275850454336349922154696715782350928150231848781690013078054110322040548868021851953551133079791762641725616640378766769983531938316332516162536044241334\n"
     ]
    }
   ],
   "source": [
    "# Test von find_params\n",
    "q, p, g = find_params()\n",
    "assert q.bit_length() == 160\n",
    "assert p.bit_length() == 1024\n",
    "assert (p - 1) % q == 0\n",
    "print(f\"g = {g}\")"
   ]
  },
  {
   "cell_type": "markdown",
   "metadata": {},
   "source": [
    "## 2. Schlüsselgenerierung\n",
    " * geheimer Schlüssel $x$\n",
    " * öffentlicher Schlüssel $y$\n",
    "\n",
    "Um den geheimen Schlüssel aus dem öffentlichen zu erhalten, müsste ein diskreter Logarithmus bestimmt werden (schwierig)!"
   ]
  },
  {
   "cell_type": "code",
   "execution_count": 8,
   "metadata": {},
   "outputs": [],
   "source": [
    "def gen_keys(q, p, g):\n",
    "    # Generiert geheimen Schlüssel x, 1 < x < q und öffentlichen Schlüssel y = g^x mod p\n",
    "    x = random.randrange(2, q)\n",
    "    y = quad_and_mult(g, x, p)\n",
    "    return x, y"
   ]
  },
  {
   "cell_type": "code",
   "execution_count": 9,
   "metadata": {},
   "outputs": [
    {
     "name": "stdout",
     "output_type": "stream",
     "text": [
      "x = 367453639662719901802697952457593094025471366929\n",
      "y = 37310005339352884361144033794864205438665236662807534314122116500297249949811827506230387141347642923900713151243944893193983529777847944534828172840696664013335433696061313127100048618976242064738278576601326762515674522448728200877378971614897158397120288728798144271326136032986550181647035228686045410741\n"
     ]
    }
   ],
   "source": [
    "x, y = gen_keys(q, p, g)\n",
    "assert 1 < x < q\n",
    "print(f\"x = {x}\")\n",
    "print(f\"y = {y}\")"
   ]
  },
  {
   "cell_type": "markdown",
   "metadata": {},
   "source": [
    "## 3. Signieren\n",
    "Die Signierfunktion benötigt die globalen Parameter $(p, q, g)$, den privaten Schlüssel $x$, die Nachricht $m$ und die Hashfunktion. Sie erzeugt die Signatur $(r, s)$."
   ]
  },
  {
   "cell_type": "code",
   "execution_count": 10,
   "metadata": {},
   "outputs": [],
   "source": [
    "# kopiert aus Übung 8\n",
    "def hash_func(input: bytes) -> bytes:\n",
    "    return sha1(input).digest()\n",
    "\n",
    "# Hilfsfunktionen von https://stackoverflow.com/a/30375198/6600660\n",
    "\n",
    "def int_to_bytes(x: int) -> bytes:\n",
    "    return x.to_bytes((x.bit_length() + 7) // 8, 'big')\n",
    "\n",
    "def int_from_bytes(xbytes: bytes) -> int:\n",
    "    return int.from_bytes(xbytes, 'big')"
   ]
  },
  {
   "cell_type": "code",
   "execution_count": 11,
   "metadata": {},
   "outputs": [],
   "source": [
    "# kopiert aus Übung 6\n",
    "def extended_euclidian(a, b):\n",
    "    \"\"\" Berechnet ggT(a,b) = sa + tb = r und gibt r, s, t zurück. \"\"\"\n",
    "    r = [a, b]\n",
    "    s = [1, 0]\n",
    "    t = [0, 1]\n",
    "    while r[-1] != 0:\n",
    "        q = r[-2] // r[-1]\n",
    "        r.append(r[-2] - q * r[-1])\n",
    "        s.append(s[-2] - q * s[-1])\n",
    "        t.append(t[-2] - q * t[-1])\n",
    "    return r[-2], s[-2], t[-2]"
   ]
  },
  {
   "cell_type": "code",
   "execution_count": 12,
   "metadata": {},
   "outputs": [
    {
     "name": "stdout",
     "output_type": "stream",
     "text": [
      "r = 119055053020935939555770386169800820481481154026, s = 283198155165929437570622085863330473026235445913\n"
     ]
    }
   ],
   "source": [
    "def sign(m: bytes, q: int, p: int, g: int, x: int, hash_func):\n",
    "    # Signieren nur Hashwert der Nachricht m\n",
    "    hash_m = int_from_bytes(hash_func(m))\n",
    "    while True:\n",
    "        # Benötigt für jede Nachricht unabhängiges 1 < j < q\n",
    "        j = random.randrange(2, q)\n",
    "        # Berechne r = (g^j mod p) mod q\n",
    "        r = quad_and_mult(g, j, p) % q\n",
    "        # Falls r = 0, neues j wählen\n",
    "        if r == 0:\n",
    "            continue\n",
    "        # Berechne Inverses von j mod q\n",
    "        ggT, j_inv, _ = extended_euclidian(j, q)\n",
    "        j_inv %= q\n",
    "        assert ggT == 1\n",
    "        assert 0 < j_inv < q\n",
    "        # Berechne s = j^(-1) * (hash(m) + rx) mod q\n",
    "        s = (j_inv * (hash_m + r * x)) % q\n",
    "        # Falls s = 0, ebenfalls neues j wählen\n",
    "        if s == 0:\n",
    "            continue\n",
    "        # Tupel (r,s) ist Signatur\n",
    "        return r, s\n",
    "\n",
    "# Test\n",
    "message = b\"Hello crypto world\"\n",
    "r, s = sign(message, q, p, g, x, hash_func)\n",
    "assert 0 < r < q and 0 < s < q\n",
    "print(f\"r = {r}, s = {s}\")"
   ]
  },
  {
   "cell_type": "markdown",
   "metadata": {},
   "source": [
    "## 4. Verifizieren\n",
    "Die Verify-Funktion benötigt die globalen Parameter $(p, q, g)$, die Signatur $(r, s)$, den öffentlichen Schlüssel $y$, die Nachricht $m$ und die Hashfunktion. Sie gibt wahr (verifiziert) oder falsch (nicht verifiziert) zurück."
   ]
  },
  {
   "cell_type": "code",
   "execution_count": 13,
   "metadata": {},
   "outputs": [
    {
     "name": "stdout",
     "output_type": "stream",
     "text": [
      "v = 119055053020935939555770386169800820481481154026, r = 119055053020935939555770386169800820481481154026\n",
      "v = 247832598976428542273039603055972699229234769730, r = 119055053020935939555770386169800820481481154026\n",
      "v = 152870928522888177156675374314162867843345530773, r = 119055053020935939555770386169800820481481154027\n",
      "v = 120543810229440797370987269300993574175587768726, r = 119055053020935939555770386169800820481481154026\n",
      "s und q sind nicht teilerfremd!\n",
      "v = 453283831065195093357829266257369190174928953680, r = 119055053020935939555770386169800820481481154026\n",
      "v = 1770732934149508655379850808214108047811058937, r = 119055053020935939555770386169800820481481154026\n",
      "v = 739758513568015406585439482177146688274624971902, r = 119055053020935939555770386169800820481481154026\n"
     ]
    }
   ],
   "source": [
    "def verify(m: bytes, r: int, s: int, q: int, p: int, g: int, y: int, hash_func) -> bool:\n",
    "    if 0 < r < q and 0 < s < q:\n",
    "        hash_m = int_from_bytes(hash_func(m))\n",
    "        # Berechne w = s^(-1) mod q\n",
    "        ggT, w, _ = extended_euclidian(s, q)\n",
    "        w %= q\n",
    "        if ggT != 1:\n",
    "            print(\"s und q sind nicht teilerfremd!\")\n",
    "            return False\n",
    "        assert 0 < w < q\n",
    "        # Berechne u1 = hash(m) * w mod q\n",
    "        u1 = (hash_m * w) % q\n",
    "        # Berechne u2 = rw mod q\n",
    "        u2 = (r * w) % q\n",
    "        # Berechne v = (g^u1 y^u2 mod p) mod q\n",
    "        v = ((quad_and_mult(g, u1, p) * quad_and_mult(y, u2, p)) % p) % q\n",
    "        print(f\"v = {v}, r = {r}\")\n",
    "        # Signatur ist korrekt, falls v == r\n",
    "        return v == r\n",
    "    else:\n",
    "        print(\"wrong ranges for r, s\")\n",
    "        return False\n",
    "\n",
    "# Testfälle\n",
    "assert verify(message, r, s, q, p, g, y, hash_func)\n",
    "assert not verify(message + b\"addon\", r, s, q, p, g, y, hash_func)\n",
    "assert not verify(message, r + 1, s, q, p, g, y, hash_func)\n",
    "assert not verify(message, r, s + 1, q, p, g, y, hash_func)\n",
    "assert not verify(message, r, s, q + 1, p, g, y, hash_func)\n",
    "assert not verify(message, r, s, q, p + 1, g, y, hash_func)\n",
    "assert not verify(message, r, s, q, p, g + 1, y, hash_func)\n",
    "assert not verify(message, r, s, q, p, g, y + 1, hash_func)"
   ]
  },
  {
   "cell_type": "markdown",
   "metadata": {},
   "source": [
    "Funktioniert!"
   ]
  }
 ],
 "metadata": {
  "interpreter": {
   "hash": "dd2b533e38d9972dcef54a3128cf3b79b0ac47944ac6552b62f7fdd7eae568da"
  },
  "kernelspec": {
   "display_name": "Python 3.7.6 64-bit ('base': conda)",
   "name": "python3"
  },
  "language_info": {
   "codemirror_mode": {
    "name": "ipython",
    "version": 3
   },
   "file_extension": ".py",
   "mimetype": "text/x-python",
   "name": "python",
   "nbconvert_exporter": "python",
   "pygments_lexer": "ipython3",
   "version": "3.7.6"
  },
  "orig_nbformat": 4
 },
 "nbformat": 4,
 "nbformat_minor": 2
}
