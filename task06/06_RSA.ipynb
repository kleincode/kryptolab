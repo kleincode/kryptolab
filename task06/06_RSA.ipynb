{
 "cells": [
  {
   "cell_type": "markdown",
   "metadata": {},
   "source": [
    "# Task 6 - RSA\n",
    "Felix Kleinsteuber $\\cdot$ Matrikelnr.: 185709"
   ]
  },
  {
   "cell_type": "code",
   "execution_count": 1,
   "metadata": {},
   "outputs": [],
   "source": [
    "import numpy as np"
   ]
  },
  {
   "cell_type": "markdown",
   "metadata": {},
   "source": [
    "## 1. Quadrieren und Multiplizieren\n",
    "Wir quadrieren die Basis wiederholt und multiplizieren die Quadrate auf, um effizienter modulo $n$ potenzieren zu können."
   ]
  },
  {
   "cell_type": "code",
   "execution_count": 2,
   "metadata": {},
   "outputs": [],
   "source": [
    "def quad_and_mult(x, m, n):\n",
    "    \"\"\"Berechnet effizient x^m mod n.\"\"\"\n",
    "    y = 1\n",
    "    while m != 0:\n",
    "        if m & 0x1 != 0:\n",
    "            # falls bit=1: Multipliziere y mit x\n",
    "            y = (y * x) % n\n",
    "        # für jedes Bit wird x quadriert\n",
    "        x = (x * x) % n\n",
    "        # schiebe zum nächsten Bit\n",
    "        m >>= 1\n",
    "    return y\n",
    "\n",
    "# random tests\n",
    "assert quad_and_mult(2, 5, 10) == (2 ** 5) % 10\n",
    "assert quad_and_mult(41, 13, 33) == (41 ** 13) % 33"
   ]
  },
  {
   "cell_type": "markdown",
   "metadata": {},
   "source": [
    "## 2. Erweiterter Euklidischer Algorithmus (eeA)\n",
    "Wir nutzen diesen, um für bekanntes $\\phi(n) = (p - 1) (q - 1)$ ein $d$ zu gegebenem $e$ zu berechnen, sodass gilt: $de \\equiv 1 \\mod \\phi(n)$."
   ]
  },
  {
   "cell_type": "code",
   "execution_count": 3,
   "metadata": {},
   "outputs": [
    {
     "name": "stdout",
     "output_type": "stream",
     "text": [
      "d: 17, e: 53, p: 11, q: 7, n: 77, phi(n): 60\n"
     ]
    }
   ],
   "source": [
    "def extended_euclidian(a, b):\n",
    "    \"\"\" Berechnet ggT(a,b) = sa + tb = r und gibt r, s, t zurück. \"\"\"\n",
    "    r = [a, b]\n",
    "    s = [1, 0]\n",
    "    t = [0, 1]\n",
    "    while r[-1] != 0:\n",
    "        q = r[-2] // r[-1]\n",
    "        r.append(r[-2] - q * r[-1])\n",
    "        s.append(s[-2] - q * s[-1])\n",
    "        t.append(t[-2] - q * t[-1])\n",
    "    return r[-2], s[-2], t[-2]\n",
    "\n",
    "# d berechnen\n",
    "p, q = 11, 7\n",
    "n = p * q\n",
    "e = 53\n",
    "phi_n = (p - 1) * (q - 1)\n",
    "ggT, _, d = extended_euclidian(phi_n, 53)\n",
    "assert ggT == 1\n",
    "assert (d * e) % phi_n == 1\n",
    "print(f\"d: {d}, e: {53}, p: {p}, q: {q}, n: {n}, phi(n): {phi_n}\")"
   ]
  },
  {
   "cell_type": "markdown",
   "metadata": {},
   "source": [
    "## 3. RSA Encrypt / Decrypt\n",
    "Die eigentlichen Encrypt/Decrypt-Funktionen sind denkbar einfach:\n",
    "* $E(e, n) = x^e \\mod n$\n",
    "* $D(d, n) = x^d \\mod n$\n",
    "\n",
    "Wir nutzen dafür die effiziente Implementierung (Quadrieren und Multiplizieren)."
   ]
  },
  {
   "cell_type": "code",
   "execution_count": 4,
   "metadata": {},
   "outputs": [
    {
     "name": "stdout",
     "output_type": "stream",
     "text": [
      "sample input: [32 52 63 ...  0  2 57]\n",
      "Wall time: 51 ms\n",
      "encrypted: [65 61 28 ...  0 74  8]\n",
      "Wall time: 35 ms\n",
      "decrypted [32 52 63 ...  0  2 57]\n"
     ]
    }
   ],
   "source": [
    "def rsa_encrypt(e, n, x):\n",
    "    assert np.all(x < n)\n",
    "    return np.array([quad_and_mult(x1, e, n) for x1 in x])\n",
    "\n",
    "def rsa_decrypt(d, n, y):\n",
    "    # äquivalent zu rsa_encrypt, aber der Übersichtlichkeit halber mit anderen Variablennamen\n",
    "    assert np.all(y < n)\n",
    "    return np.array([quad_and_mult(y1, d, n) for y1 in y])\n",
    "\n",
    "x_sample = np.random.randint(0, n, 5000)\n",
    "print(\"sample input:\", x_sample)\n",
    "%time enc = rsa_encrypt(e, n, x_sample)\n",
    "print(\"encrypted:\", enc)\n",
    "%time dec = rsa_decrypt(d, n, enc)\n",
    "print(\"decrypted\", dec)\n",
    "assert np.array_equal(x_sample, dec)"
   ]
  },
  {
   "cell_type": "markdown",
   "metadata": {},
   "source": [
    "Encrypt und Decrypt sind wegen des sehr kleinen $n$ s sehr schnell. Encrypt und Decrypt hintereinander erzeugen - wie erhofft - wieder den Klartext."
   ]
  },
  {
   "cell_type": "code",
   "execution_count": null,
   "metadata": {},
   "outputs": [],
   "source": []
  }
 ],
 "metadata": {
  "interpreter": {
   "hash": "dd2b533e38d9972dcef54a3128cf3b79b0ac47944ac6552b62f7fdd7eae568da"
  },
  "kernelspec": {
   "display_name": "Python 3.7.6 64-bit ('base': conda)",
   "name": "python3"
  },
  "language_info": {
   "codemirror_mode": {
    "name": "ipython",
    "version": 3
   },
   "file_extension": ".py",
   "mimetype": "text/x-python",
   "name": "python",
   "nbconvert_exporter": "python",
   "pygments_lexer": "ipython3",
   "version": "3.7.6"
  },
  "orig_nbformat": 4
 },
 "nbformat": 4,
 "nbformat_minor": 2
}
