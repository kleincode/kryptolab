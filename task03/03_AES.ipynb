{
 "cells": [
  {
   "cell_type": "markdown",
   "metadata": {},
   "source": [
    "# Task 3 - AES\n",
    "## 1. S-Boxes importieren\n",
    "Die Dateien sind in einem CSV-ähnlichen Format gegeben. Die Einträge sind als Hexadezimalzahlen angegeben und müssen in Bytes konvertiert werden."
   ]
  },
  {
   "cell_type": "code",
   "execution_count": 1,
   "metadata": {},
   "outputs": [],
   "source": [
    "import re\n",
    "import numpy as np\n",
    "\n",
    "def read_sbox_file(filename):\n",
    "    with open(filename, \"r\") as f:\n",
    "        content = f.read()\n",
    "        # Werte in einer Liste der Länge 256 voneinander isolieren\n",
    "        vals = re.split(\",\\s\", content)\n",
    "        # Werte als Hexadezimalzahlen parsen\n",
    "        int_vals = [int(val, 16) for val in vals]\n",
    "        # Zu numpy Array konvertieren (ein Wert = 1 byte = np.uint8) und reshape\n",
    "        return np.array(int_vals, dtype=np.uint8).reshape((16, 16))\n",
    "\n",
    "sbox = read_sbox_file(\"SBox.txt\")\n",
    "assert sbox[0,0] == 0x63\n",
    "sbox_inv = read_sbox_file(\"SBoxInvers.txt\")\n",
    "assert sbox_inv[0,0] == 0x52"
   ]
  },
  {
   "cell_type": "markdown",
   "metadata": {},
   "source": [
    "## 2. Initialisierung\n",
    "Wir möchten einen Eingabestring der Länge 16 in eine 4x4 Matrix mit je einem Byte konvertieren (d.h. ein char wird in ein Byte konvertiert). Die Anordnung der Bytes erfolgt wie in den Folien zuerst auf die Spalten, dann auf die Zeilen."
   ]
  },
  {
   "cell_type": "code",
   "execution_count": 2,
   "metadata": {},
   "outputs": [
    {
     "name": "stdout",
     "output_type": "stream",
     "text": [
      "[[ 68 105 101  84]\n",
      " [ 97 115 105 101]\n",
      " [115 116 110 115]\n",
      " [ 32  32  32 116]]\n",
      "Das ist ein Test\n"
     ]
    }
   ],
   "source": [
    "def str_to_matrix(str):\n",
    "    assert len(str) == 16\n",
    "    return np.array([ord(c) for c in str], dtype=np.uint8).reshape((4,4)).transpose()\n",
    "\n",
    "def matrix_to_str(mat):\n",
    "    chars = [chr(c) for c in np.nditer(mat.transpose(), order=\"C\")]\n",
    "    return \"\".join(chars)\n",
    "\n",
    "# Test\n",
    "input_str = \"Das ist ein Test\"#\"Hello Crypto! :)\"\n",
    "mat = str_to_matrix(input_str)\n",
    "print(mat)\n",
    "out_str = matrix_to_str(mat)\n",
    "print(out_str)\n",
    "assert input_str == out_str"
   ]
  },
  {
   "cell_type": "markdown",
   "metadata": {},
   "source": [
    "## 3. Rundenschlüssel addieren (X-OR)"
   ]
  },
  {
   "cell_type": "code",
   "execution_count": 3,
   "metadata": {},
   "outputs": [
    {
     "name": "stdout",
     "output_type": "stream",
     "text": [
      "[[117  92  92 103]\n",
      " [ 83  69  89  81]\n",
      " [ 64  67  95  70]\n",
      " [ 20  24  18  66]]\n",
      "[[ 68 105 101  84]\n",
      " [ 97 115 105 101]\n",
      " [115 116 110 115]\n",
      " [ 32  32  32 116]]\n"
     ]
    }
   ],
   "source": [
    "def add_round_key(mat, key):\n",
    "    return np.bitwise_xor(mat, key)\n",
    "\n",
    "# Test\n",
    "test_mat = np.array(mat, dtype=np.uint8)\n",
    "test_key = str_to_matrix(\"1234567890123456\")\n",
    "test_mat_key = add_round_key(test_mat, test_key)\n",
    "print(test_mat_key)\n",
    "test_mat_key_inv = add_round_key(test_mat_key, test_key)\n",
    "print(test_mat_key_inv)\n",
    "assert np.all(test_mat == test_mat_key_inv)"
   ]
  },
  {
   "cell_type": "markdown",
   "metadata": {},
   "source": [
    "## 4. SubBytes (Lokale Substitution mit S-Boxen)"
   ]
  },
  {
   "cell_type": "code",
   "execution_count": 4,
   "metadata": {},
   "outputs": [
    {
     "name": "stdout",
     "output_type": "stream",
     "text": [
      "[[ 27 249  77  32]\n",
      " [239 143 249  77]\n",
      " [143 146 159 143]\n",
      " [183 183 183 146]]\n",
      "[[ 68 105 101  84]\n",
      " [ 97 115 105 101]\n",
      " [115 116 110 115]\n",
      " [ 32  32  32 116]]\n"
     ]
    }
   ],
   "source": [
    "# Zugriff auf S-Box für einzelnes Byte\n",
    "def get_sbox(val, inv):\n",
    "    s_row = (val & 0xf0) >> 4\n",
    "    s_col = val & 0xf\n",
    "    return sbox_inv[s_row, s_col] if inv else sbox[s_row, s_col]\n",
    "\n",
    "def sub_bytes(mat, inv=False):\n",
    "    for row in range(4):\n",
    "        for col in range(4):\n",
    "            mat[row, col] = get_sbox(mat[row, col], inv)\n",
    "    return mat\n",
    "\n",
    "# Test\n",
    "test_mat = np.array(mat, dtype=np.uint8)\n",
    "sub_mat = sub_bytes(test_mat)\n",
    "print(sub_mat)\n",
    "subinv_mat = sub_bytes(sub_mat, inv=True)\n",
    "print(subinv_mat)\n",
    "assert np.all(test_mat == subinv_mat)"
   ]
  },
  {
   "cell_type": "markdown",
   "metadata": {},
   "source": [
    "## 5. ShiftRows\n",
    "Zeilenweise Permutation. Verschlüsselung: Zyklische Verschiebung nach links, Entschlüsselung: nach rechts."
   ]
  },
  {
   "cell_type": "code",
   "execution_count": 5,
   "metadata": {},
   "outputs": [
    {
     "name": "stdout",
     "output_type": "stream",
     "text": [
      "[[ 68 105 101  84]\n",
      " [115 105 101  97]\n",
      " [110 115 115 116]\n",
      " [116  32  32  32]]\n",
      "[[ 68 105 101  84]\n",
      " [ 97 115 105 101]\n",
      " [115 116 110 115]\n",
      " [ 32  32  32 116]]\n"
     ]
    }
   ],
   "source": [
    "def shift_rows(mat, inv=False):\n",
    "    if inv:\n",
    "        # Zyklische Verschiebung nach rechts\n",
    "        mat[1,:] = mat[1,[3,0,1,2]]\n",
    "        mat[2,:] = mat[2,[2,3,0,1]]\n",
    "        mat[3,:] = mat[3,[1,2,3,0]]\n",
    "    else:\n",
    "        # Zyklische Verschiebung nach links\n",
    "        mat[1,:] = mat[1,[1,2,3,0]]\n",
    "        mat[2,:] = mat[2,[2,3,0,1]]\n",
    "        mat[3,:] = mat[3,[3,0,1,2]]\n",
    "    return mat\n",
    "\n",
    "# Test\n",
    "test_mat = np.array(mat, dtype=np.uint8)\n",
    "shifted_mat = shift_rows(test_mat)\n",
    "print(shifted_mat)\n",
    "shiftedinv_mat = shift_rows(shifted_mat, inv=True)\n",
    "print(shiftedinv_mat)\n",
    "assert np.all(test_mat == shiftedinv_mat)"
   ]
  },
  {
   "cell_type": "markdown",
   "metadata": {},
   "source": [
    "## 6. MixColumns"
   ]
  },
  {
   "cell_type": "code",
   "execution_count": 6,
   "metadata": {},
   "outputs": [
    {
     "name": "stdout",
     "output_type": "stream",
     "text": [
      "0b1010100\n",
      "0b101000011\n"
     ]
    }
   ],
   "source": [
    "# gemaess Foliendefinition, multipliziert Polynom a(x) mit Polynom p(x) = x\n",
    "def xtimes(a):\n",
    "    t = a << 1\n",
    "    if a & 0b10000000 != 0:\n",
    "        t = np.bitwise_xor(t, 0x1b)\n",
    "    return t\n",
    "\n",
    "# Test\n",
    "test_a = 0b00101010\n",
    "print(bin(xtimes(test_a)))\n",
    "test_a = 0b10101100\n",
    "print(bin(xtimes(test_a)))"
   ]
  },
  {
   "cell_type": "code",
   "execution_count": 7,
   "metadata": {},
   "outputs": [],
   "source": [
    "# Matrizen zur Multiplikation\n",
    "mc_mat = np.array([\n",
    "    [2, 3, 1, 1],\n",
    "    [1, 2, 3, 1],\n",
    "    [1, 1, 2, 3],\n",
    "    [3, 1, 1, 2]], dtype=np.uint8)\n",
    "mc_mat_inv = np.array([\n",
    "    [0xe, 0xb, 0xd, 0x9],\n",
    "    [0x9, 0xe, 0xb, 0xd],\n",
    "    [0xd, 0x9, 0xe, 0xb],\n",
    "    [0xb, 0xd, 0x9, 0xe]], dtype=np.uint8)"
   ]
  },
  {
   "cell_type": "code",
   "execution_count": 8,
   "metadata": {},
   "outputs": [
    {
     "name": "stdout",
     "output_type": "stream",
     "text": [
      "[[ 68 105 101  84]\n",
      " [ 97 115 105 101]\n",
      " [115 116 110 115]\n",
      " [ 32  32  32 116]]\n",
      "[[120  19  63   0]\n",
      " [ 51  51  37 127]\n",
      " [163 146 176  75]\n",
      " [158 252 232   2]]\n",
      "[[ 68 105 101  84]\n",
      " [ 97 115 105 101]\n",
      " [115 116 110 115]\n",
      " [ 32  32  32 116]]\n"
     ]
    }
   ],
   "source": [
    "# Funktion zum Ausfuehren der Matrixmultiplikation auf einer einzelnen Spalte\n",
    "def mix_single_col(in_col, inv):\n",
    "    global mc_mat, mc_mat_inv\n",
    "    mat = mc_mat_inv if inv else mc_mat\n",
    "    out_col = np.zeros(in_col.shape, dtype=np.uint8)\n",
    "    # Iteriere durch Matrix\n",
    "    for row in range(4):\n",
    "        for col in range(4):\n",
    "            # Iteriere durch bits in mat[row, col]\n",
    "            for bitpos in range(8):\n",
    "                if mat[row, col] & (1 << bitpos) != 0:\n",
    "                    # Multipliziere einstelliges Polynom (z.B. x^2 = x * x) mit Eingabepolynom\n",
    "                    prod = in_col[col]\n",
    "                    for _ in range(bitpos):\n",
    "                        prod = xtimes(prod)\n",
    "                    # Addiere das Produkt zum Ausgabepolynom\n",
    "                    out_col[row] = np.bitwise_xor(out_col[row], prod)\n",
    "    return out_col\n",
    "\n",
    "def mix_columns(mat, inv=False):\n",
    "    for col in range(4):\n",
    "        mat[:,col] = mix_single_col(mat[:,col], inv)\n",
    "    return mat\n",
    "\n",
    "# Test\n",
    "test_mat = np.array(mat, dtype=np.uint8)\n",
    "print(test_mat)\n",
    "mixed_test_mat = mix_columns(test_mat)\n",
    "print(mixed_test_mat)\n",
    "mixed_test_mat_inv = mix_columns(mixed_test_mat, inv=True)\n",
    "print(mixed_test_mat_inv)\n",
    "assert np.all(test_mat == mixed_test_mat_inv)"
   ]
  },
  {
   "cell_type": "markdown",
   "metadata": {},
   "source": [
    "## 7. Alles zusammen - AES Verschlüsselungs- und Entschlüsselungsroutinen"
   ]
  },
  {
   "cell_type": "code",
   "execution_count": 11,
   "metadata": {},
   "outputs": [
    {
     "name": "stdout",
     "output_type": "stream",
     "text": [
      "[[ 68 105 101  84]\n",
      " [ 97 115 105 101]\n",
      " [115 116 110 115]\n",
      " [ 32  32  32 116]]\n",
      "Das ist ein Test\n",
      "[[149   7 185  82]\n",
      " [ 95 122 128 106]\n",
      " [117 248  54  13]\n",
      " [110 118 237  67]]\n",
      "C\n"
     ]
    }
   ],
   "source": [
    "def aes_encrypt(mat, keys, verbose=False):\n",
    "    assert mat.shape == (4,4)\n",
    "    assert keys.shape == (11, 4, 4)\n",
    "    enc_mat = add_round_key(np.array(mat, dtype=np.uint8), keys[0])\n",
    "    for i in range(1, 10):\n",
    "        enc_mat = sub_bytes(enc_mat)\n",
    "        enc_mat = shift_rows(enc_mat)\n",
    "        enc_mat = mix_columns(enc_mat)\n",
    "        enc_mat = add_round_key(enc_mat, keys[i])\n",
    "        if verbose:\n",
    "            print(i, matrix_to_str(enc_mat))\n",
    "    enc_mat = sub_bytes(enc_mat)\n",
    "    enc_mat = shift_rows(enc_mat)\n",
    "    enc_mat = add_round_key(enc_mat, keys[10])\n",
    "    return enc_mat\n",
    "\n",
    "# Test\n",
    "test_mat = np.array(mat, dtype=np.uint8)\n",
    "print(test_mat)\n",
    "print(matrix_to_str(test_mat))\n",
    "keys = np.random.randint(0, 255, size=(11, 4, 4), dtype=np.uint8)\n",
    "enc_test_mat = aes_encrypt(test_mat, keys)\n",
    "print(enc_test_mat)\n",
    "print(matrix_to_str(enc_test_mat))"
   ]
  },
  {
   "cell_type": "code",
   "execution_count": 12,
   "metadata": {},
   "outputs": [
    {
     "name": "stdout",
     "output_type": "stream",
     "text": [
      "[[ 68 105 101  84]\n",
      " [ 97 115 105 101]\n",
      " [115 116 110 115]\n",
      " [ 32  32  32 116]]\n",
      "Das ist ein Test\n"
     ]
    }
   ],
   "source": [
    "def aes_decrypt(mat, keys, verbose=False):\n",
    "    assert mat.shape == (4,4)\n",
    "    assert keys.shape == (11, 4, 4)\n",
    "    # xor muss nicht umgekehrt werden (in x-or key = out <=> out x-or key = in)\n",
    "    dec_mat = add_round_key(np.array(mat, dtype=np.uint8), keys[10])\n",
    "    dec_mat = shift_rows(dec_mat, inv=True)\n",
    "    dec_mat = sub_bytes(dec_mat, inv=True)\n",
    "    for i in range(9, 0, -1):\n",
    "        if verbose:\n",
    "            print(i, matrix_to_str(enc_mat))\n",
    "        dec_mat = add_round_key(dec_mat, keys[i])\n",
    "        dec_mat = mix_columns(dec_mat, inv=True)\n",
    "        dec_mat = shift_rows(dec_mat, inv=True)\n",
    "        dec_mat = sub_bytes(dec_mat, inv=True)\n",
    "    dec_mat = add_round_key(dec_mat, keys[0])\n",
    "    return dec_mat\n",
    "\n",
    "# Test\n",
    "dec_test_mat = aes_decrypt(enc_test_mat, keys)\n",
    "print(dec_test_mat)\n",
    "print(matrix_to_str(dec_test_mat))\n",
    "assert np.all(dec_test_mat == test_mat)"
   ]
  }
 ],
 "metadata": {
  "interpreter": {
   "hash": "85ab1f92497b6bb51ad896ba1eeb8945e4d422e17248da8be71022ff750805fd"
  },
  "kernelspec": {
   "display_name": "Python 3.8.8 64-bit ('base': conda)",
   "name": "python3"
  },
  "language_info": {
   "codemirror_mode": {
    "name": "ipython",
    "version": 3
   },
   "file_extension": ".py",
   "mimetype": "text/x-python",
   "name": "python",
   "nbconvert_exporter": "python",
   "pygments_lexer": "ipython3",
   "version": "3.8.8"
  },
  "orig_nbformat": 4
 },
 "nbformat": 4,
 "nbformat_minor": 2
}
