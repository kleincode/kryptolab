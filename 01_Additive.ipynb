{
 "cells": [
  {
   "cell_type": "markdown",
   "metadata": {},
   "source": [
    "# Task 1: Additive\n",
    "<ol>\n",
    "    <li>Implement encryption and decryption for the additive Cypher\n",
    "    <ul>\n",
    "        <li>Alphabet: 7-bit ASCII Characters</li>\n",
    "        <li>Key: Number between 0 and 127</li>\n",
    "    </ul></li>\n",
    "    <li>Write a tool, given an encrypted <i>Lorem Ipsum</i> text that automatically decrypts it\n",
    "    <ul>\n",
    "        <li>Read text from file</li>\n",
    "        <li>Find key with frequency analysis</li>\n",
    "        <li>Which character is the most common? (Hint: its not an ’e’)</li>\n",
    "        <li>Automatically output the key and the decrypted text</li>\n",
    "    </ul></li>\n",
    "</ol>\n"
   ]
  },
  {
   "cell_type": "markdown",
   "metadata": {},
   "source": [
    "## 1. Basic additive encrypt/decrypt with known key"
   ]
  },
  {
   "cell_type": "code",
   "execution_count": 51,
   "metadata": {},
   "outputs": [],
   "source": [
    "def encrypt(content, key):\n",
    "    return \"\".join(chr((ord(c) + key) % 128) for c in content)\n",
    "\n",
    "def decrypt(content, key):\n",
    "    return \"\".join(chr((ord(c) - key) % 128) for c in content)"
   ]
  },
  {
   "cell_type": "markdown",
   "metadata": {},
   "source": [
    "## 2. Simple Test - Encrypt and decrypt\n",
    "We will encrypt the string \"Hello World!\" and decrypt it with the same key. We expect to get the same string."
   ]
  },
  {
   "cell_type": "code",
   "execution_count": 79,
   "metadata": {},
   "outputs": [
    {
     "name": "stdout",
     "output_type": "stream",
     "text": [
      "Original: Hello World!\n",
      "Encoded: r\u000f\u0016\u0016\u0019J\u0001\u0019\u001c\u0016\u000eK\n",
      "Decoded: Hello World!\n"
     ]
    }
   ],
   "source": [
    "inStr = \"Hello World!\"\n",
    "key = 42\n",
    "encStr = encrypt(inStr, key)\n",
    "decStr = decrypt(encStr, key)\n",
    "print(f\"Original: {inStr}\", f\"Encoded: {encStr}\", f\"Decoded: {decStr}\", sep=\"\\n\")\n",
    "assert(decStr == inStr)"
   ]
  },
  {
   "cell_type": "markdown",
   "metadata": {},
   "source": [
    "Looks good."
   ]
  },
  {
   "cell_type": "markdown",
   "metadata": {},
   "source": [
    "## 3. Reading file contents"
   ]
  },
  {
   "cell_type": "code",
   "execution_count": 15,
   "metadata": {},
   "outputs": [],
   "source": [
    "# Reading a file completely\n",
    "def readFile(filename):\n",
    "    with open(filename, \"r\") as f:\n",
    "        return f.read()"
   ]
  },
  {
   "cell_type": "markdown",
   "metadata": {},
   "source": [
    "## 4. Auto-decrypt using character frequency analysis"
   ]
  },
  {
   "cell_type": "code",
   "execution_count": 71,
   "metadata": {},
   "outputs": [],
   "source": [
    "from collections import Counter\n",
    "\n",
    "def autoDecrypt(content, most_common=\" \", num_results=3):\n",
    "    out = \"\"\n",
    "    counts = Counter(content).most_common()\n",
    "    out += \"The most common characters are:\\n\"\n",
    "    \n",
    "    # List most common characters\n",
    "    for i, entry in enumerate(counts[:num_results], start=1):\n",
    "        out += f\"\\t{i}. '{entry[0]}' ({entry[1]} occurences)\\n\"\n",
    "    out += f\"\\nAssuming that '{most_common}' is the most common character, the following keys are most likely:\\n\"\n",
    "\n",
    "    # List keys and decrypted texts\n",
    "    for i, entry in enumerate(counts[:num_results], start=1):\n",
    "        key = (ord(entry[0]) - ord(most_common)) % 128\n",
    "        out += f\"\\n\\t{i}. Key: {key}, decryption result:\\n\"\n",
    "        out += decrypt(content, key) + \"\\n\"\n",
    "    return out"
   ]
  },
  {
   "cell_type": "markdown",
   "metadata": {},
   "source": [
    "## 5. Simple Test - Auto Decrypt\n",
    "We will now read the given file and auto-decrypt it."
   ]
  },
  {
   "cell_type": "code",
   "execution_count": 73,
   "metadata": {},
   "outputs": [
    {
     "name": "stdout",
     "output_type": "stream",
     "text": [
      "The most common characters are:\n",
      "\t1. 'U' (150 occurences)\n",
      "\n",
      "Assuming that ' ' is the most common character, the following keys are most likely:\n",
      "\n",
      "\t1. Key: 53, decryption result:\n",
      "Lorem ipsum dolor sit amet, consetetur sadipscing elitr, sed diam nonumy eirmod tempor invidunt ut labore et dolore magna aliquyam erat, sed diam voluptua. At vero eos et accusam et justo duo dolores et ea rebum. Stet clita kasd gubergren, no sea takimata sanctus est Lorem ipsum dolor sit amet. Lorem ipsum dolor sit amet, consetetur sadipscing elitr, sed diam nonumy eirmod tempor invidunt ut labore et dolore magna aliquyam erat, sed diam voluptua. At vero eos et accusam et justo duo dolores et ea rebum. Stet clita kasd gubergren, no sea takimata sanctus est Lorem ipsum dolor sit amet. Lorem ipsum dolor sit amet, consetetur sadipscing elitr, sed diam nonumy eirmod tempor invidunt ut labore et dolore magna aliquyam erat, sed diam voluptua. At vero eos et accusam et justo duo dolores et ea rebum. Stet clita kasd gubergren, no sea takimata sanctus est Lorem ipsum dolor sit amet. \n",
      "\n"
     ]
    }
   ],
   "source": [
    "print(autoDecrypt(readFile(\"LoremIpsumEncrypted.txt\"), num_results=1))"
   ]
  },
  {
   "cell_type": "markdown",
   "metadata": {},
   "source": [
    "Looks good."
   ]
  },
  {
   "cell_type": "markdown",
   "metadata": {},
   "source": [
    "## 6. Basic GUI for encryption/decryption\n",
    "Using ipywidgets, ipyfilechooser packages."
   ]
  },
  {
   "cell_type": "code",
   "execution_count": 4,
   "metadata": {},
   "outputs": [],
   "source": [
    "!pip install -q ipyfilechooser"
   ]
  },
  {
   "cell_type": "code",
   "execution_count": 54,
   "metadata": {},
   "outputs": [],
   "source": [
    "from ipyfilechooser import FileChooser\n",
    "from IPython.display import display\n",
    "from ipywidgets import Button, HBox, Textarea, BoundedIntText"
   ]
  },
  {
   "cell_type": "code",
   "execution_count": 72,
   "metadata": {},
   "outputs": [
    {
     "data": {
      "application/vnd.jupyter.widget-view+json": {
       "model_id": "ed3d768bc266426d821b41c334ec12ff",
       "version_major": 2,
       "version_minor": 0
      },
      "text/plain": [
       "FileChooser(path='d:\\OneDrive\\Studium\\Kryptologie LAB', filename='', title='<b>Select a file to decrypt/encryp…"
      ]
     },
     "metadata": {},
     "output_type": "display_data"
    },
    {
     "data": {
      "application/vnd.jupyter.widget-view+json": {
       "model_id": "36d786d1f928498c995a951126c190b9",
       "version_major": 2,
       "version_minor": 0
      },
      "text/plain": [
       "Textarea(value='', description='Input', layout=Layout(height='300px', width='800px'))"
      ]
     },
     "metadata": {},
     "output_type": "display_data"
    },
    {
     "data": {
      "application/vnd.jupyter.widget-view+json": {
       "model_id": "79ee9b2b6ae34b709877bcb1ad254d56",
       "version_major": 2,
       "version_minor": 0
      },
      "text/plain": [
       "BoundedIntText(value=0, description='Key:', max=127)"
      ]
     },
     "metadata": {},
     "output_type": "display_data"
    },
    {
     "data": {
      "application/vnd.jupyter.widget-view+json": {
       "model_id": "6b44a119e8cd48839bb09d57fee01e4f",
       "version_major": 2,
       "version_minor": 0
      },
      "text/plain": [
       "HBox(children=(Button(description='Encrypt', style=ButtonStyle()), Button(description='Decrypt', style=ButtonS…"
      ]
     },
     "metadata": {},
     "output_type": "display_data"
    },
    {
     "data": {
      "application/vnd.jupyter.widget-view+json": {
       "model_id": "b3f5d89be8d14195bb6a804d63047c9e",
       "version_major": 2,
       "version_minor": 0
      },
      "text/plain": [
       "Textarea(value='', description='Output', disabled=True, layout=Layout(height='300px', width='800px'))"
      ]
     },
     "metadata": {},
     "output_type": "display_data"
    }
   ],
   "source": [
    "# Create a file chooser\n",
    "fc = FileChooser(\"\")\n",
    "fc.title = f\"<b>Select a file to decrypt/encrypt</b>\"\n",
    "display(fc)\n",
    "\n",
    "# Input textarea\n",
    "inArea = Textarea(value=\"\", layout={\"width\": \"800px\", \"height\": \"300px\"}, description=\"Input\")\n",
    "display(inArea)\n",
    "\n",
    "# Create key slider\n",
    "keyField = BoundedIntText(value=0, min=0, max=127, step=1, description=\"Key:\")\n",
    "display(keyField)\n",
    "\n",
    "# Create buttons for encrypt/decrypt\n",
    "encryptBtn = Button(description=\"Encrypt\")\n",
    "decryptBtn = Button(description=\"Decrypt\")\n",
    "autoDecryptBtn = Button(description=\"Auto Decrypt\")\n",
    "buttonBox = HBox([encryptBtn, decryptBtn, autoDecryptBtn])\n",
    "display(buttonBox)\n",
    "\n",
    "# Output textarea\n",
    "out = Textarea(value=\"\", disabled=True, layout={\"width\": \"800px\", \"height\": \"300px\"}, description=\"Output\")\n",
    "display(out)\n",
    "\n",
    "# File chooser callback\n",
    "def fileChosen(chooser):\n",
    "    fc.title = \"File selected. Click encrypt/decrypt.\"\n",
    "    inArea.value = readFile(fc.selected)\n",
    "    out.value = \"\"\n",
    "\n",
    "fc.register_callback(fileChosen)\n",
    "\n",
    "# Button callbacks\n",
    "def onEncrypt(btn):\n",
    "    out.value = encrypt(inArea.value, keyField.value)\n",
    "encryptBtn.on_click(onEncrypt)\n",
    "\n",
    "def onDecrypt(btn):\n",
    "    out.value = decrypt(inArea.value, keyField.value)\n",
    "decryptBtn.on_click(onDecrypt)\n",
    "\n",
    "def onAutoDecrypt(btn):\n",
    "    out.value = autoDecrypt(inArea.value)\n",
    "autoDecryptBtn.on_click(onAutoDecrypt)"
   ]
  }
 ],
 "metadata": {
  "interpreter": {
   "hash": "dd2b533e38d9972dcef54a3128cf3b79b0ac47944ac6552b62f7fdd7eae568da"
  },
  "kernelspec": {
   "display_name": "Python 3.7.6 64-bit ('base': conda)",
   "name": "python3"
  },
  "language_info": {
   "codemirror_mode": {
    "name": "ipython",
    "version": 3
   },
   "file_extension": ".py",
   "mimetype": "text/x-python",
   "name": "python",
   "nbconvert_exporter": "python",
   "pygments_lexer": "ipython3",
   "version": "3.7.6"
  },
  "orig_nbformat": 4
 },
 "nbformat": 4,
 "nbformat_minor": 2
}
