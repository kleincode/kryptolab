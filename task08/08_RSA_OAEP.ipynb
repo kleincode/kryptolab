{
 "cells": [
  {
   "cell_type": "markdown",
   "metadata": {},
   "source": [
    "# Task 8 - Optimal Asymmetric Encryption Padding (OAEP)\n",
    "Krypto Lab\n",
    "\n",
    "Felix Kleinsteuber $\\cdot$ Matrikelnr.: 185709"
   ]
  },
  {
   "cell_type": "code",
   "execution_count": 1,
   "metadata": {},
   "outputs": [],
   "source": [
    "from hashlib import sha1\n",
    "import numpy as np"
   ]
  },
  {
   "cell_type": "markdown",
   "metadata": {},
   "source": [
    "Padding-Protokolle wie OAEP verhindern, dass deterministisch verschlüsselte einfache Nachrichten (z.B. mit RSA) erraten und überprüft werden können. Es greift auf eine Hash-Funktion zurück."
   ]
  },
  {
   "cell_type": "markdown",
   "metadata": {},
   "source": [
    "## 1. Mask Generating Function (MGF1)\n",
    "Die Mask Generating Function kann für beliebige Eingaben seed Ausgaben beliebiger Länge $l$ erzeugen und greift dabei auf eine Hashfunktion zurück."
   ]
  },
  {
   "cell_type": "code",
   "execution_count": 3,
   "metadata": {},
   "outputs": [
    {
     "data": {
      "text/plain": [
       "'4786f2d952d8a72913c1c6f45b7db57eb881262c32056f41dbd8fa889a16be129d6d2bf1876c070a1b525960bc598e1aa33f4456cb8089501e54cd7946f9c164c213baddc3fd2489ba12e63b06b145c7847d3d25e2e6fe50ceba71502d49232db98e958c9c3b7564779f3850fd90233b0809334af8b189bd4064c38f57b88027daa616b8d21c822aa6596b6227c0460916b025d982b0abedd95cf3d4ee2dfce953aba1d366c41937cdd07dc44d5f950bbbfd61421698ccc6bd40fec0b62fa6cb653bc2812ced15a93d813bd85fdf7205ac319617b3b5abeb122ce1f320e30201a0e4006f24d19c3bcf1ed20c6f77e35b70803e7ba6199d8aadb06ed91822f4327f95cf2932d363c88e7f7fa283b6b210191ee3f3f3a0c1839c5a42039c5592d5970ad5d9d913f8124278efad1390e4b901fe6c2b3dfa869f946e56adec09f4cd'"
      ]
     },
     "execution_count": 3,
     "metadata": {},
     "output_type": "execute_result"
    }
   ],
   "source": [
    "def mgf1(seed: bytearray, l: int, hash_func) -> bytearray:\n",
    "    \"\"\"Mask Generating Function MGF1. Generiert eine l-Byte-Maske aus seed.\n",
    "\n",
    "    Args:\n",
    "        seed (bytearray): Startwert beliebiger Länge.\n",
    "        l (int): Ziellänge der Maske.\n",
    "        hash (function): Zu verwendende Hashfunktion (bytearray -> bytearray).\n",
    "\n",
    "    Returns:\n",
    "        bytearray: Maske T.\n",
    "    \"\"\"\n",
    "    T = bytearray()\n",
    "    counter = 0\n",
    "    while len(T) < l:\n",
    "        counter += 1\n",
    "        # Baue seed || C\n",
    "        to_hash = bytearray(seed)\n",
    "        for off in range(24, -1, -8):\n",
    "            to_hash.append((counter >> off) & 0xff)\n",
    "        # T = T || hash(seed || C)\n",
    "        T += hash_func(to_hash)\n",
    "    return T[:l]\n",
    "\n",
    "def hash_func(input: bytes) -> bytes:\n",
    "    return sha1(input).digest()\n",
    "\n",
    "# Test\n",
    "seed = b\"hallo!\"\n",
    "l = 320\n",
    "mask = mgf1(seed, l, hash_func)\n",
    "assert len(mask) == l\n",
    "mask.hex()"
   ]
  },
  {
   "cell_type": "markdown",
   "metadata": {},
   "source": [
    "## 2. OAEP Transform (Encrypt)\n",
    "Als Seed wird ein zufälliges ByteArray der richtigen Länge (Länge der Ausgabe der Hashfunktion) gewählt. \"00\" und \"01\" sind jeweils ein Byte lang (in Hex notiert). $lHash$ sei die Ausgabe der Hashfunktion bei leerer Eingabe. PS besteht aus genauso vielen Nullen, dass\n",
    "\n",
    "$$ len(n) = len(m) + len(PS) + 2 * len(lHash) + 2 $$\n",
    "\n",
    "Damit $len(PS) \\geq 0$, darf die Nachricht $m$ nicht länger als $len(n) - 2 \\cdot len(lHash) - 2$ sein."
   ]
  },
  {
   "cell_type": "markdown",
   "metadata": {},
   "source": [
    "![OAEP Transform](oaep_transform.PNG)"
   ]
  },
  {
   "cell_type": "code",
   "execution_count": 6,
   "metadata": {},
   "outputs": [],
   "source": [
    "# Hilfsfunktionen von https://stackoverflow.com/a/30375198/6600660\n",
    "\n",
    "def int_to_bytes(x: int) -> bytes:\n",
    "    return x.to_bytes((x.bit_length() + 7) // 8, 'big')\n",
    "\n",
    "def int_from_bytes(xbytes: bytes) -> int:\n",
    "    return int.from_bytes(xbytes, 'big')\n",
    "\n",
    "def xor_bytes(x: bytes, y: bytes) -> bytes:\n",
    "    \"\"\"Gibt x ^ y zurück\"\"\"\n",
    "    xi = int_from_bytes(x)\n",
    "    yi = int_from_bytes(y)\n",
    "    return int_to_bytes(xi ^ yi)\n",
    "\n",
    "# Test XOR\n",
    "assert xor_bytes(bytes([1, 8, 16]), bytes([4, 16, 15])) == bytes([5, 24, 31])"
   ]
  },
  {
   "cell_type": "code",
   "execution_count": 7,
   "metadata": {},
   "outputs": [
    {
     "name": "stdout",
     "output_type": "stream",
     "text": [
      "len(n) = 65\n",
      "len(m) = 1\n",
      "len(PS) = 22\n",
      "len(lHash) = 20\n",
      "808242064728469385653767189449014217949107052233725383595383193397100216381491869385447241469366249460215823319154809183840296738060716935081787424498603981\n",
      "4907388928218087410696269851510019267052594145781947318457687452517907057639932487321815193723653263039359157655703949646745197750066964484501826472687413\n"
     ]
    }
   ],
   "source": [
    "def oaep_encrypt(hash_func, mgf, n: bytes, m: bytes, l: bytes = bytes()):\n",
    "    # lHash = hash(l), l = leeres Byte Array\n",
    "    lHash = hash_func(l)\n",
    "\n",
    "    if len(m) > len(n) - 2 * len(lHash) - 2:\n",
    "        raise ValueError(\"m too large!\")\n",
    "\n",
    "    # Zufälliger Seed mit len(seed) = len(lHash)\n",
    "    seed = bytearray(np.random.bytes(len(lHash)))\n",
    "\n",
    "    # PS 00..0 sodass len(n) = len(m) + len(PS) + 2 * len(lHash) + 2\n",
    "    PS = bytearray(len(n) - len(m) - 2 * len(lHash) - 2)\n",
    "\n",
    "    in_block = lHash + PS + bytes([1]) + m\n",
    "    mgf_seed = mgf(seed, len(in_block), hash_func)\n",
    "\n",
    "    # maskedDB = mgf(seed) ^ (lHash + PS + 0x01 + m)\n",
    "    maskedDB = xor_bytes(mgf_seed, in_block)\n",
    "    mgf_maskedDB = mgf(maskedDB, len(seed), hash_func)\n",
    "\n",
    "    # maskedSeed = seed ^ mgf(maskedDB)\n",
    "    maskedSeed = xor_bytes(seed, mgf_maskedDB)\n",
    "\n",
    "    # Debug Ausgaben\n",
    "    print(\"len(n) =\", len(n))\n",
    "    print(\"len(m) =\", len(m))\n",
    "    print(\"len(PS) =\", len(PS))\n",
    "    print(\"len(lHash) =\", len(lHash))\n",
    "\n",
    "    # Output: 0x00 + maskedSeed + maskedDB\n",
    "    return bytes([0]) + maskedSeed + maskedDB\n",
    "\n",
    "# Test mit validem m\n",
    "n = 808242064728469385653767189449014217949107052233725383595383193397100216381491869385447241469366249460215823319154809183840296738060716935081787424498603981\n",
    "m = 42\n",
    "n_bytes = int_to_bytes(n)\n",
    "m_bytes = int_to_bytes(m)\n",
    "toenc_bytes = oaep_encrypt(hash_func, mgf1, n_bytes, m_bytes)\n",
    "toenc_int = int_from_bytes(toenc_bytes)\n",
    "print(n)\n",
    "print(toenc_int)\n",
    "assert toenc_int < n\n",
    "\n",
    "# Test mit ungültigem m\n",
    "exc_thrown = False\n",
    "try:\n",
    "    oaep_encrypt(hash_func, mgf1, n_bytes, n_bytes)\n",
    "except ValueError:\n",
    "    exc_thrown = True\n",
    "assert exc_thrown"
   ]
  },
  {
   "cell_type": "markdown",
   "metadata": {},
   "source": [
    "## 3. OAEP Transform (Decrypt)\n",
    "Die Pipeline des OAEP Encrypts muss rückwärts ausgeführt werden."
   ]
  },
  {
   "cell_type": "code",
   "execution_count": 9,
   "metadata": {},
   "outputs": [],
   "source": [
    "def oaep_decrypt(hash_func, mgf, n: bytes, m: bytes) -> bytes:\n",
    "    \"\"\"Kehrt OAEP-Transformation um.\n",
    "\n",
    "    Args:\n",
    "        hash_func (function bytes -> bytes): Hash-Funktion\n",
    "        mgf (function): Mask Generating Function\n",
    "        n (bytes): RSA-Modul\n",
    "        m (bytes): Ausgabe der OAEP-Transformation.\n",
    "\n",
    "    Returns:\n",
    "        Eingabe der OAEP-Transformation.\n",
    "    \"\"\"\n",
    "    # Länge der Ausgabe der Hashfunktion\n",
    "    h = len(hash_func(bytes()))\n",
    "\n",
    "    # m = 0x00 (Länge 1) + maskedSeed (Länge h) + maskedDB\n",
    "    maskedSeed = m[1:(1+h)]\n",
    "    maskedDB = m[(1+h):]\n",
    "\n",
    "    mgf_maskedDB = mgf(maskedDB, h, hash_func)\n",
    "\n",
    "    #     maskedSeed = seed ^ mgf(maskedDB)\n",
    "    # <-> seed = maskedSeed ^ mgf(maskedDB)\n",
    "    seed = xor_bytes(maskedSeed, mgf_maskedDB)\n",
    "    mgf_seed = mgf(seed, len(maskedDB), hash_func)\n",
    "\n",
    "    #     maskedDB = mgf(seed) ^ (lHash + PS + 0x01 + m)\n",
    "    # <-> (lHash + PS + 0x01 + m) = maskedDB ^ mgf(seed)\n",
    "    in_block = xor_bytes(maskedDB, mgf_seed)\n",
    "\n",
    "    # PS(00..0) + 0x01 + m\n",
    "    zeros_one_m = in_block[h:]\n",
    "    # Extrahiere m (beginnt hinter dem ersten Byte mit Wert 1)\n",
    "    for i in range(len(zeros_one_m)):\n",
    "        if zeros_one_m[i] == 1:\n",
    "            return zeros_one_m[(i+1):]\n",
    "    \n",
    "    # Wenn hier angelangt: Ungültiges Format (kein 1-Byte)\n",
    "    raise ValueError(\"Ungültiges Format\")\n"
   ]
  },
  {
   "cell_type": "markdown",
   "metadata": {},
   "source": [
    "## 4. Tests"
   ]
  },
  {
   "cell_type": "code",
   "execution_count": 10,
   "metadata": {},
   "outputs": [
    {
     "name": "stdout",
     "output_type": "stream",
     "text": [
      "len(n) = 65\n",
      "len(m) = 18\n",
      "len(PS) = 5\n",
      "len(lHash) = 20\n",
      "b'To be or not to be'\n",
      "b'To be or not to be'\n"
     ]
    }
   ],
   "source": [
    "# Gesamttest mit Text\n",
    "m_bytes = b\"To be or not to be\"\n",
    "enc_bytes = oaep_encrypt(hash_func, mgf1, n_bytes, m_bytes)\n",
    "dec_bytes = oaep_decrypt(hash_func, mgf1, n_bytes, enc_bytes)\n",
    "print(m_bytes)\n",
    "print(dec_bytes)\n",
    "assert m_bytes == dec_bytes"
   ]
  },
  {
   "cell_type": "code",
   "execution_count": 11,
   "metadata": {},
   "outputs": [
    {
     "name": "stdout",
     "output_type": "stream",
     "text": [
      "len(n) = 65\n",
      "len(m) = 4\n",
      "len(PS) = 19\n",
      "len(lHash) = 20\n",
      "b'I\\x96\\x02\\xd2'\n",
      "b'I\\x96\\x02\\xd2'\n"
     ]
    }
   ],
   "source": [
    "# Gesamttest mit Zahl\n",
    "m_bytes = int_to_bytes(1234567890)\n",
    "enc_bytes = oaep_encrypt(hash_func, mgf1, n_bytes, m_bytes)\n",
    "dec_bytes = oaep_decrypt(hash_func, mgf1, n_bytes, enc_bytes)\n",
    "print(m_bytes)\n",
    "print(dec_bytes)\n",
    "assert m_bytes == dec_bytes"
   ]
  },
  {
   "cell_type": "code",
   "execution_count": 12,
   "metadata": {},
   "outputs": [
    {
     "name": "stdout",
     "output_type": "stream",
     "text": [
      "len(n) = 65\n",
      "len(m) = 0\n",
      "len(PS) = 23\n",
      "len(lHash) = 20\n",
      "b''\n",
      "b''\n"
     ]
    }
   ],
   "source": [
    "# Gesamttest mit leerer Nachricht\n",
    "m_bytes = bytes()\n",
    "enc_bytes = oaep_encrypt(hash_func, mgf1, n_bytes, m_bytes)\n",
    "dec_bytes = oaep_decrypt(hash_func, mgf1, n_bytes, enc_bytes)\n",
    "print(m_bytes)\n",
    "print(dec_bytes)\n",
    "assert m_bytes == dec_bytes"
   ]
  },
  {
   "cell_type": "code",
   "execution_count": null,
   "metadata": {},
   "outputs": [],
   "source": []
  }
 ],
 "metadata": {
  "interpreter": {
   "hash": "dd2b533e38d9972dcef54a3128cf3b79b0ac47944ac6552b62f7fdd7eae568da"
  },
  "kernelspec": {
   "display_name": "Python 3.7.6 64-bit ('base': conda)",
   "name": "python3"
  },
  "language_info": {
   "codemirror_mode": {
    "name": "ipython",
    "version": 3
   },
   "file_extension": ".py",
   "mimetype": "text/x-python",
   "name": "python",
   "nbconvert_exporter": "python",
   "pygments_lexer": "ipython3",
   "version": "3.7.6"
  },
  "orig_nbformat": 4
 },
 "nbformat": 4,
 "nbformat_minor": 2
}
