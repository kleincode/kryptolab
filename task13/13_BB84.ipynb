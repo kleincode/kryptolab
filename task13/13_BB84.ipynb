{
 "cells": [
  {
   "cell_type": "markdown",
   "metadata": {},
   "source": [
    "# Task 13 - BB84 Quantenprotokoll\n",
    "Krypto Lab\n",
    "\n",
    "Felix Kleinsteuber, Matrikelnummer: 185 709"
   ]
  },
  {
   "cell_type": "code",
   "execution_count": 43,
   "metadata": {},
   "outputs": [],
   "source": [
    "import random\n",
    "import numpy as np"
   ]
  },
  {
   "cell_type": "markdown",
   "metadata": {},
   "source": [
    "## 1. Qubit\n",
    "Wir unterscheiden zwischen zwei Basen: Der Standardbasis $\\left| 0 \\right\\rangle, \\left| 1 \\right\\rangle$ und der Hadamar-Basis $\\left| + \\right\\rangle, \\left| - \\right\\rangle$. Wird in der falschen Basis gemessen, ist das Ergebnis rein zufällig ($p(0) = p(1) = 0.5$). Wird in der korrekten Basis gemessen, ist das Ergebnis determiniert.\n",
    "\n",
    "Für das BB84-Protokoll reicht es, wenn wir das Qubit auf entweder 0 oder 1 (in Standard- oder Hadamard-Basis) setzen können."
   ]
  },
  {
   "cell_type": "code",
   "execution_count": 44,
   "metadata": {},
   "outputs": [],
   "source": [
    "from enum import Enum\n",
    "class QBasis(Enum):\n",
    "    STANDARD = 0\n",
    "    HADAMARD = 1"
   ]
  },
  {
   "cell_type": "code",
   "execution_count": 45,
   "metadata": {},
   "outputs": [
    {
     "name": "stdout",
     "output_type": "stream",
     "text": [
      "measured 9x0, 11x1\n"
     ]
    }
   ],
   "source": [
    "\n",
    "class Qubit:\n",
    "    def __init__(self, value: int, basis: QBasis):\n",
    "        assert value in [0, 1]\n",
    "        self.value = value\n",
    "        self.basis = basis\n",
    "        self.destroyed = False\n",
    "    \n",
    "    def measure(self, basis: QBasis) -> int:\n",
    "        if self.destroyed:\n",
    "            # Wir stellen sicher, dass das Qubit nur einmal gemessen werden kann\n",
    "            return -1 # Quantenzustand zerstört\n",
    "        self.destroyed = True\n",
    "        if basis == self.basis:\n",
    "            # Basis stimmt überein: Ergebnis terminiert\n",
    "            return self.value\n",
    "        else:\n",
    "            # Basis stimmt nicht überein: Ergebnis zufällig\n",
    "            return random.getrandbits(1)\n",
    "\n",
    "# Test: mit gleicher Basis messen\n",
    "q1 = Qubit(0, QBasis.STANDARD)\n",
    "assert q1.measure(QBasis.STANDARD) == 0\n",
    "assert q1.measure(QBasis.STANDARD) == -1\n",
    "# Test: mit unterschiedlicher Basis messen (zufälliges Ergebnis)\n",
    "vals = [0, 0]\n",
    "for i in range(20):\n",
    "    q = Qubit(0, QBasis.STANDARD)\n",
    "    m = q.measure(QBasis.HADAMARD)\n",
    "    assert m in [0, 1]\n",
    "    vals[m] += 1\n",
    "print(f\"measured {vals[0]}x0, {vals[1]}x1\")\n",
    "assert vals[0] > 0 and vals[1] > 0\n",
    "        "
   ]
  },
  {
   "cell_type": "markdown",
   "metadata": {},
   "source": [
    "## 2. BB84 Protokoll\n",
    "Das BB84-Protokoll kann zum Beispiel zum Schlüsselaustausch für ein One-Time-Pad verwendet werden. Es ist nahezu absolut sicher, da auch Abhören mit einer gewissen Wahrscheinlichkeit erfasst werden kann.\n",
    "\n",
    "Praktisch ist, dass Quantenrechner durch das Erzeugen eines Qubits in einer Basis und Lesen in einer anderen Basis echte Zufallszahlen erzeugen können. Die folgende Funktion simuliert auch dieses Verhalten."
   ]
  },
  {
   "cell_type": "code",
   "execution_count": 46,
   "metadata": {},
   "outputs": [],
   "source": [
    "# Zufallszahlen erzeugen mit Quantenrechnern\n",
    "def get_randbit() -> int:\n",
    "    q = Qubit(0, QBasis.STANDARD)\n",
    "    # wenn mit der anderen Basis gemessen wird, ist das Ergebnis zu 50% 0 und zu 50% 1\n",
    "    m = q.measure(QBasis.HADAMARD)\n",
    "    assert m in [0, 1]\n",
    "    return m"
   ]
  },
  {
   "cell_type": "markdown",
   "metadata": {},
   "source": [
    "Alice und Bob sind als je eine Klasse implementiert. Das BB84-Quantenprotokoll besteht aus folgenden Schritten:\n",
    "\n",
    "1. Alice generiert $n$ zufällige $a_i \\in [0,1]$ sowie $n$ zufällige $a_i' \\in [0,1]$. Pro $(a_i, a_i')$ codiert sie ein Quantenbit, wobei $a_i$ den Wert und $a_i'$ die verwendete Basis angibt. Sie schickt diese Qubits an Bob.\n",
    "2. Bob generiert $n$ zufällige $b_i' \\in [0,1]$ und misst die Qubits von Alice als $b_i$, wobei $b_i'$ die zum Messen verwendete Basis angibt. Wir erwarten nun, dass Bob die Hälfte der Bits richtig gemessen hat. Er schickt all seine $b_i'$ an Alice.\n",
    "3. Alice löscht alle $a_i$, für die $a_i' \\neq b_i'$. So werden alle Bits entfernt, die Bob falsch gemessen hat. Sie schickt nun all ihre $a_i'$ an Bob.\n",
    "4. Bob löscht bei sich ebenfalls alle $b_i$, für die $b_i' \\neq a_i'$. So werden auch bei Bob alle Bits entfernt, die er falsch gemessen hat, und der Schlüsselaustausch ist beendet. **Prüfphase:** Bob wählt einen zufälligen Anteil seiner $b_i$ (hier ein Viertel) und schickt jeweils Index $i$ und Wert $b_i$ an Alice. Er löscht die gewählten $b_i$ bei sich.\n",
    "5. Alice prüft für alle erhaltenen $i$, ob $a_i = b_i$. Wenn beide Werte irgendwo nicht übereinstimmen, schlägt sie Alarm und bricht das Verfahren ab. (Eve hat gelauscht!) Sonst löscht sie alle überprüften $a_i$ bei sich, wählt abermals einen zufälligen Anteil ihrer $a_i$ (hier wieder ein Sechstel), löscht diesen ebenfalls und schickt ihn an Bob.\n",
    "6. Bob prüft für alle erhaltenen $i$, ob $b_i = a_i$. Wenn beide Werte irgendwo nicht übereinstimmen, schlägt er Alarm und bricht das Verfahren ab. (Eve hat gelauscht!) Sonst löscht er ebenfalls alle überprüften $b_i$ bei sich.\n",
    "\n",
    "Es ist zu erwarten, dass $\\frac{1}{2} \\cdot \\frac{3}{4} \\cdot \\frac{3}{4} = \\frac{9}{32} \\approx \\frac{1}{4}$ der ursprünglich generierten Zufallsbits erhalten bleiben (Verlust von $\\frac{1}{2}$ durch zufälliges Auslesen der Qubits von Bob, jeweils Verlust von $\\frac{1}{4}$ beim Überprüfen durch Alice und Bob)."
   ]
  },
  {
   "cell_type": "code",
   "execution_count": 47,
   "metadata": {},
   "outputs": [],
   "source": [
    "class Alice:\n",
    "    def __init__(self):\n",
    "        self.a = []\n",
    "        self.key_validated = False\n",
    "    \n",
    "    def step1_send_qbits(self, n: int) -> list:\n",
    "        self.a = [get_randbit() for i in range(n)]\n",
    "        self.a_ = [get_randbit() for i in range(n)]\n",
    "        # Codiere a_i zu Quantenbits, wobei a_i' über die Basis bestimmt\n",
    "        qa = [Qubit(a_i, QBasis.STANDARD if a_i_ == 0 else QBasis.HADAMARD) for a_i, a_i_ in zip(self.a, self.a_)]\n",
    "        # Verschicke diese Quantenbits an Bob\n",
    "        return qa\n",
    "    \n",
    "    def step3_compare_and_delete(self, b_: list) -> list:\n",
    "        assert len(self.a_) == len(b_)\n",
    "        keep_indices = np.array(self.a_) == np.array(b_)\n",
    "        # Lösche alle a mit a' != b'\n",
    "        self.a = np.array(self.a)[keep_indices]\n",
    "        # Sende a' an Bob zum Vergleich\n",
    "        return self.a_\n",
    "    \n",
    "    def step5_validate(self, cmp_ind: list, cmp_b: list):\n",
    "        self.key_validated = np.all(self.a[cmp_ind] == cmp_b)\n",
    "        if not self.key_validated:\n",
    "            print(f\"Validierung fehlgeschlagen! (Bob zu Alice)\")\n",
    "            return [0], [-1]\n",
    "        else:\n",
    "            # Alice muss die von Bob öffentlich gemachten Bits löschen\n",
    "            self.a = np.delete(self.a, cmp_ind)\n",
    "            # Wähle zufällige bits aus a zum Vergleichen\n",
    "            cmp_ind = [random.randrange(0, len(self.a)) for i in range(len(self.a) // 4)]\n",
    "            print(f\"Alice: Vergleiche Bits {cmp_ind}...\")\n",
    "            cmp_vals = self.a[cmp_ind]\n",
    "            # Alice muss auch diese Bits löschen\n",
    "            self.a = np.delete(self.a, cmp_ind)\n",
    "            # Sende an Bob zum Vergleichen\n",
    "            return cmp_ind, cmp_vals\n",
    "\n",
    "    \n",
    "    def get_key(self):\n",
    "        return \"\".join([str(bit) for bit in self.a])\n",
    "\n",
    "\n",
    "class Bob:\n",
    "    def __init__(self):\n",
    "        self.b = []\n",
    "        self.key_validated = False\n",
    "\n",
    "    def step2_measure_qbits(self, n: int, qa: list) -> list:\n",
    "        assert len(qa) == n\n",
    "        self.b_ = [get_randbit() for i in range(n)]\n",
    "        # Miss a_i und speichere sie als b_i\n",
    "        self.b = [q.measure(QBasis.STANDARD if b_i_ == 0 else QBasis.HADAMARD) for q, b_i_ in zip(qa, self.b_)]\n",
    "        # Sende b' an Alice zum Vergleich\n",
    "        return self.b_\n",
    "    \n",
    "    def step4_compare_and_delete(self, a_: list):\n",
    "        assert len(a_) == len(self.b_)\n",
    "        keep_indices = np.array(a_) == np.array(self.b_)\n",
    "        # Lösche alle b mit a' != b'\n",
    "        self.b = np.array(self.b)[keep_indices]\n",
    "        # Wähle zufällige bits aus b zum Vergleichen\n",
    "        cmp_ind = [random.randrange(0, len(self.b)) for i in range(len(self.b) // 6)]\n",
    "        print(f\"Bob: Vergleiche Bits {cmp_ind}...\")\n",
    "        cmp_vals = self.b[cmp_ind]\n",
    "        # Bob macht die Bits öffentlich und muss sie daher löschen\n",
    "        self.b = np.delete(self.b, cmp_ind)\n",
    "        # Sende an Alice zum Vergleichen\n",
    "        return cmp_ind, cmp_vals\n",
    "    \n",
    "    def step6_validate(self, cmp_ind: list, cmp_a: list):\n",
    "        self.key_validated = np.all(self.b[cmp_ind] == cmp_a)\n",
    "        if not self.key_validated:\n",
    "            print(f\"Validierung fehlgeschlagen! (Alice zu Bob)\")\n",
    "        else:\n",
    "            # Bob muss auch diese Bits löschen\n",
    "            self.b = np.delete(self.b, cmp_ind)\n",
    "    \n",
    "    def get_key(self):\n",
    "        return \"\".join([str(bit) for bit in self.b])\n",
    "    \n"
   ]
  },
  {
   "cell_type": "markdown",
   "metadata": {},
   "source": [
    "### Test 1: Alles läuft glatt\n",
    "Es gibt keine Eve, die Quantenbits abhört. Dann ist zu erwarten, dass Alice und Bob den gleichen Schlüssel erhalten und auch keine Probleme in der Prüfphase auftreten."
   ]
  },
  {
   "cell_type": "code",
   "execution_count": 48,
   "metadata": {},
   "outputs": [
    {
     "name": "stdout",
     "output_type": "stream",
     "text": [
      "Bob: Vergleiche Bits [31, 35, 47, 9, 17, 1, 42, 49, 12]...\n",
      "Alice: Vergleiche Bits [11, 17, 36, 25, 11, 8, 10, 24, 41, 12, 37, 23]...\n",
      "Alice: \tSchlüssel: 00101000101010010101000110000001000011 (Länge: 38) Validiert: True\n",
      "Bob: \tSchlüssel: 00101000101010010101000110000001000011 (Länge: 38) Validiert: True\n"
     ]
    }
   ],
   "source": [
    "alice = Alice()\n",
    "bob = Bob()\n",
    "n = 32 * 4 # ~32-bit Schlüssel (generiere 128 qubits)\n",
    "qa = alice.step1_send_qbits(n)\n",
    "b_ = bob.step2_measure_qbits(n, qa)\n",
    "a_ = alice.step3_compare_and_delete(b_)\n",
    "cmp_ind, cmp_b = bob.step4_compare_and_delete(a_)\n",
    "cmp_ind, cmp_a = alice.step5_validate(cmp_ind, cmp_b)\n",
    "bob.step6_validate(cmp_ind, cmp_a)\n",
    "print(f\"Alice: \\tSchlüssel: {alice.get_key()} (Länge: {len(alice.get_key())}) Validiert: {alice.key_validated}\")\n",
    "print(f\"Bob: \\tSchlüssel: {bob.get_key()} (Länge: {len(bob.get_key())}) Validiert: {bob.key_validated}\")"
   ]
  },
  {
   "cell_type": "markdown",
   "metadata": {},
   "source": [
    "### Test 2: Manipulation des Quantenkanals\n",
    "Eve misst jedes zweite Bit im Quantenkanal in einer zufälligen Basis und codiert den gemessenen Wert wieder in der gleichen Basis. Eine Aufdeckung in der Prüfphase ist sehr wahrscheinlich, obwohl Eve im (wiederum unwahrscheinlichen) Best Case nur die Hälfte des Schlüssels kennen würde.\n",
    "\n",
    "Mit $p = \\frac{1}{2}$ misst Eve in der falschen Basis, mit $p = \\frac{1}{4}$ misst sie demnach den falschen Wert. Selbst wenn ihr Angriff unentdeckt bliebe (d.h. sie misst genau die Bits, die nicht überprüft werden), wüsste sie dennoch nicht sicher, ob sie die richtigen Schlüsselbits erhalten hat."
   ]
  },
  {
   "cell_type": "code",
   "execution_count": 49,
   "metadata": {},
   "outputs": [],
   "source": [
    "class Eve():\n",
    "    def __init__(self):\n",
    "        self.sneaked_bits = []\n",
    "    def sneak(self, qa: list):\n",
    "        # Eve misst jedes zweite Bit in qa in einer zufälligen Basis, um so durchschnittlich die Hälfte des halben Schlüssels zu erhalten\n",
    "        for i in range(0, len(qa)):\n",
    "            if i % 2 == 0:\n",
    "                basis_bit = get_randbit()\n",
    "                basis = QBasis.STANDARD if basis_bit == 0 else QBasis.HADAMARD\n",
    "                m = qa[i].measure(basis)\n",
    "                self.sneaked_bits.append(m)\n",
    "                # da Eve das gemessene Bit zerstört hat, muss sie ein neues präparieren\n",
    "                qa[i] = Qubit(m, basis)\n",
    "            else:\n",
    "                # unbekanntes Bit (wird nicht gemessen)\n",
    "                self.sneaked_bits.append(\"x\")\n",
    "        return qa\n",
    "    \n",
    "    def get_key(self):\n",
    "        return \"\".join([str(bit) for bit in self.sneaked_bits])\n"
   ]
  },
  {
   "cell_type": "code",
   "execution_count": 50,
   "metadata": {},
   "outputs": [
    {
     "name": "stdout",
     "output_type": "stream",
     "text": [
      "Bob: Vergleiche Bits [6, 21, 8, 39, 53, 60, 16, 34, 35, 26]...\n",
      "Validierung fehlgeschlagen! (Bob zu Alice)\n",
      "Validierung fehlgeschlagen! (Alice zu Bob)\n",
      "Alice: \tSchlüssel: 00110110000011000001110100100100110001001111011111101100011100010 Validiert: False\n",
      "Bob: \tSchlüssel: 0001011000110000110100001001100001010001111010011100010 Validiert: False\n",
      "Eve: \tSchlüssel: 0x1x1x0x1x0x0x0x1x0x1x1x0x1x1x0x1x0x0x0x0x0x0x1x0x0x0x0x0x1x1x1x0x0x0x1x0x0x0x1x1x1x1x1x1x1x1x0x0x1x1x0x0x1x1x0x1x1x1x1x0x0x0x0x\n"
     ]
    }
   ],
   "source": [
    "alice = Alice()\n",
    "bob = Bob()\n",
    "eve = Eve()\n",
    "n = 32 * 4 # ~32-bit Schlüssel (generiere 128 qubits)\n",
    "qa = alice.step1_send_qbits(n)\n",
    "qa = eve.sneak(qa)\n",
    "b_ = bob.step2_measure_qbits(n, qa)\n",
    "a_ = alice.step3_compare_and_delete(b_)\n",
    "cmp_ind, cmp_b = bob.step4_compare_and_delete(a_)\n",
    "cmp_ind, cmp_a = alice.step5_validate(cmp_ind, cmp_b)\n",
    "bob.step6_validate(cmp_ind, cmp_a)\n",
    "print(f\"Alice: \\tSchlüssel: {alice.get_key()} Validiert: {alice.key_validated}\")\n",
    "print(f\"Bob: \\tSchlüssel: {bob.get_key()} Validiert: {bob.key_validated}\")\n",
    "print(f\"Eve: \\tSchlüssel: {eve.get_key()}\")"
   ]
  },
  {
   "cell_type": "markdown",
   "metadata": {},
   "source": [
    "**Erfolgreich:** Die Validierung schlägt fehl."
   ]
  }
 ],
 "metadata": {
  "interpreter": {
   "hash": "dd2b533e38d9972dcef54a3128cf3b79b0ac47944ac6552b62f7fdd7eae568da"
  },
  "kernelspec": {
   "display_name": "Python 3.7.6 64-bit ('base': conda)",
   "language": "python",
   "name": "python3"
  },
  "language_info": {
   "codemirror_mode": {
    "name": "ipython",
    "version": 3
   },
   "file_extension": ".py",
   "mimetype": "text/x-python",
   "name": "python",
   "nbconvert_exporter": "python",
   "pygments_lexer": "ipython3",
   "version": "3.7.6"
  },
  "orig_nbformat": 4
 },
 "nbformat": 4,
 "nbformat_minor": 2
}
