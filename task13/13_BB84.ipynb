{
 "cells": [
  {
   "cell_type": "markdown",
   "metadata": {},
   "source": [
    "# Task 13 - BB84 Quantenprotokoll\n",
    "Felix Kleinsteuber\n",
    "\n",
    "Matrikelnummer: 185 709"
   ]
  },
  {
   "cell_type": "code",
   "execution_count": 2,
   "metadata": {},
   "outputs": [],
   "source": [
    "import random\n",
    "import numpy as np"
   ]
  },
  {
   "cell_type": "markdown",
   "metadata": {},
   "source": [
    "## 1. Qubit\n",
    "Wir unterscheiden zwischen zwei Basen: Der Standardbasis $\\left| 0 \\right\\rangle, \\left| 1 \\right\\rangle$ und der Hadamar-Basis $\\left| + \\right\\rangle, \\left| - \\right\\rangle$. Wird in der falschen Basis gemessen, ist das Ergebnis rein zufällig ($p(0) = p(1) = 0.5$). Wird in der korrekten Basis gemessen, ist das Ergebnis determiniert."
   ]
  },
  {
   "cell_type": "code",
   "execution_count": 1,
   "metadata": {},
   "outputs": [],
   "source": [
    "from enum import Enum\n",
    "class QBasis(Enum):\n",
    "    STANDARD = 0\n",
    "    HADAMAR = 1"
   ]
  },
  {
   "cell_type": "code",
   "execution_count": 7,
   "metadata": {},
   "outputs": [
    {
     "name": "stdout",
     "output_type": "stream",
     "text": [
      "measured 7x0, 13x1\n"
     ]
    }
   ],
   "source": [
    "\n",
    "class Qubit:\n",
    "    def __init__(self, value: int, basis: QBasis):\n",
    "        assert value in [0, 1]\n",
    "        self.value = value\n",
    "        self.basis = basis\n",
    "        self.destroyed = False\n",
    "    \n",
    "    def measure(self, basis: QBasis) -> int:\n",
    "        if self.destroyed:\n",
    "            # Wir stellen sicher, dass das Qubit nur einmal gemessen werden kann\n",
    "            return -1 # Quantenzustand zerstört\n",
    "        self.destroyed = True\n",
    "        if basis == self.basis:\n",
    "            # Basis stimmt überein: Ergebnis terminiert\n",
    "            return self.value\n",
    "        else:\n",
    "            # Basis stimmt nicht überein: Ergebnis zufällig\n",
    "            return random.getrandbits(1)\n",
    "\n",
    "# Test: mit gleicher Basis messen\n",
    "q1 = Qubit(0, QBasis.STANDARD)\n",
    "assert q1.measure(QBasis.STANDARD) == 0\n",
    "assert q1.measure(QBasis.STANDARD) == -1\n",
    "# Test: mit unterschiedlicher Basis messen\n",
    "vals = [0, 0]\n",
    "for i in range(20):\n",
    "    q = Qubit(0, QBasis.STANDARD)\n",
    "    m = q.measure(QBasis.HADAMAR)\n",
    "    assert m in [0, 1]\n",
    "    vals[m] += 1\n",
    "print(f\"measured {vals[0]}x0, {vals[1]}x1\")\n",
    "assert vals[0] > 0 and vals[1] > 0\n",
    "        "
   ]
  },
  {
   "cell_type": "markdown",
   "metadata": {},
   "source": [
    "## 2. BB84 Protokoll"
   ]
  },
  {
   "cell_type": "code",
   "execution_count": 6,
   "metadata": {},
   "outputs": [],
   "source": [
    "# Zufallszahlen erzeugen mit Quantenrechnern\n",
    "def get_randbit() -> int:\n",
    "    q = Qubit(0, QBasis.STANDARD)\n",
    "    # wenn mit der anderen Basis gemessen wird, ist das Ergebnis zu 50% 0 und zu 50% 1\n",
    "    m = q.measure(QBasis.HADAMAR)\n",
    "    assert m in [0, 1]\n",
    "    return m"
   ]
  },
  {
   "cell_type": "code",
   "execution_count": 19,
   "metadata": {},
   "outputs": [],
   "source": [
    "class Alice:\n",
    "    def __init__(self):\n",
    "        self.a = []\n",
    "        self.key_validated = False\n",
    "    \n",
    "    def step1_send_qbits(self, n: int) -> list:\n",
    "        self.a = [get_randbit() for i in range(n)]\n",
    "        self.a_ = [get_randbit() for i in range(n)]\n",
    "        # Codiere a_i zu Quantenbits, wobei a_i' über die Basis bestimmt\n",
    "        qa = [Qubit(a_i, QBasis.STANDARD if a_i_ == 0 else QBasis.HADAMAR) for a_i, a_i_ in zip(self.a, self.a_)]\n",
    "        # Verschicke diese Quantenbits an Bob\n",
    "        return qa\n",
    "    \n",
    "    def step3_compare_and_delete(self, b_: list) -> list:\n",
    "        assert len(self.a_) == len(b_)\n",
    "        keep_indices = np.array(self.a_) == np.array(b_)\n",
    "        # Lösche alle a mit a' != b'\n",
    "        self.a = np.array(self.a)[keep_indices]\n",
    "        # Sende a' an Bob zum Vergleich\n",
    "        return self.a_\n",
    "    \n",
    "    def step5_validate(self, cmp_ind: list, cmp_b: list):\n",
    "        self.key_validated = np.all(self.a[cmp_ind] == cmp_b)\n",
    "        if not self.key_validated:\n",
    "            print(f\"Validierung fehlgeschlagen! (Bob zu Alice)\")\n",
    "            return [0], [-1]\n",
    "        else:\n",
    "            # Wähle zufällige bits aus b zum Vergleichen\n",
    "            cmp_ind = [random.randrange(0, len(self.a)) for i in range(len(self.a) // 6)]\n",
    "            print(f\"Alice: Vergleiche Bits {cmp_ind}...\")\n",
    "            # Sende an Bob zum Vergleichen\n",
    "            return cmp_ind, self.a[cmp_ind]\n",
    "\n",
    "    \n",
    "    def get_key(self):\n",
    "        return \"\".join([str(bit) for bit in self.a])\n",
    "\n",
    "\n",
    "class Bob:\n",
    "    def __init__(self):\n",
    "        self.b = []\n",
    "        self.key_validated = False\n",
    "\n",
    "    def step2_measure_qbits(self, n: int, qa: list) -> list:\n",
    "        assert len(qa) == n\n",
    "        self.b_ = [get_randbit() for i in range(n)]\n",
    "        # Miss a_i und speichere sie als b_i\n",
    "        self.b = [q.measure(QBasis.STANDARD if b_i_ == 0 else QBasis.HADAMAR) for q, b_i_ in zip(qa, self.b_)]\n",
    "        # Sende b' an Alice zum Vergleich\n",
    "        return self.b_\n",
    "    \n",
    "    def step4_compare_and_delete(self, a_: list):\n",
    "        assert len(a_) == len(self.b_)\n",
    "        keep_indices = np.array(a_) == np.array(self.b_)\n",
    "        # Lösche alle b mit a' != b'\n",
    "        self.b = np.array(self.b)[keep_indices]\n",
    "        # Wähle zufällige bits aus b zum Vergleichen\n",
    "        cmp_ind = [random.randrange(0, len(self.b)) for i in range(len(self.b) // 6)]\n",
    "        print(f\"Bob: Vergleiche Bits {cmp_ind}...\")\n",
    "        # Sende an Alice zum Vergleichen\n",
    "        return cmp_ind, self.b[cmp_ind]\n",
    "    \n",
    "    def step6_validate(self, cmp_ind: list, cmp_a: list):\n",
    "        self.key_validated = np.all(self.b[cmp_ind] == cmp_a)\n",
    "        if not self.key_validated:\n",
    "            print(f\"Validierung fehlgeschlagen! (Alice zu Bob)\")\n",
    "    \n",
    "    def get_key(self):\n",
    "        return \"\".join([str(bit) for bit in self.b])\n",
    "    \n",
    "\n",
    "\n"
   ]
  },
  {
   "cell_type": "markdown",
   "metadata": {},
   "source": [
    "### Test 1: Alles läuft glatt"
   ]
  },
  {
   "cell_type": "code",
   "execution_count": 20,
   "metadata": {},
   "outputs": [
    {
     "name": "stdout",
     "output_type": "stream",
     "text": [
      "Bob: Vergleiche Bits [59, 3, 16, 4, 42, 48, 63, 61, 21, 1]...\n",
      "Alice: Vergleiche Bits [7, 15, 58, 56, 2, 7, 10, 6, 51, 13]...\n",
      "Alice: \tSchlüssel: 10000001100100110010100101101101010111100111111111111101101000100 Validiert: True\n",
      "Bob: \tSchlüssel: 10000001100100110010100101101101010111100111111111111101101000100 Validiert: True\n"
     ]
    }
   ],
   "source": [
    "alice = Alice()\n",
    "bob = Bob()\n",
    "n = 128 # 128-bit Schlüssel\n",
    "qa = alice.step1_send_qbits(n)\n",
    "b_ = bob.step2_measure_qbits(n, qa)\n",
    "a_ = alice.step3_compare_and_delete(b_)\n",
    "cmp_ind, cmp_b = bob.step4_compare_and_delete(a_)\n",
    "cmp_ind, cmp_a = alice.step5_validate(cmp_ind, cmp_b)\n",
    "bob.step6_validate(cmp_ind, cmp_a)\n",
    "print(f\"Alice: \\tSchlüssel: {alice.get_key()} Validiert: {alice.key_validated}\")\n",
    "print(f\"Bob: \\tSchlüssel: {bob.get_key()} Validiert: {bob.key_validated}\")"
   ]
  },
  {
   "cell_type": "markdown",
   "metadata": {},
   "source": [
    "### Test 2: Manipulation des Quantenkanals\n",
    "Eve misst jedes zweite Bit im Quantenkanal in einer zufälligen Basis und codiert den gemessenen Wert wieder in der gleichen Basis."
   ]
  },
  {
   "cell_type": "code",
   "execution_count": 22,
   "metadata": {},
   "outputs": [],
   "source": [
    "class Eve():\n",
    "    def __init__(self):\n",
    "        self.sneaked_bits = []\n",
    "    def sneak(self, qa: list):\n",
    "        # Eve misst jedes zweite Bit in qa in einer zufälligen Basis, um so durchschnittlich die Hälfte des halben Schlüssels zu erhalten\n",
    "        for i in range(0, len(qa)):\n",
    "            if i % 2 == 0:\n",
    "                basis_bit = get_randbit()\n",
    "                basis = QBasis.STANDARD if basis_bit == 0 else QBasis.HADAMAR\n",
    "                m = qa[i].measure(basis)\n",
    "                self.sneaked_bits.append(m)\n",
    "                # da Eve das gemessene Bit zerstört hat, muss sie ein neues präparieren\n",
    "                qa[i] = Qubit(m, basis)\n",
    "            else:\n",
    "                # unbekanntes Bit (wird nicht gemessen)\n",
    "                self.sneaked_bits.append(\"x\")\n",
    "        return qa\n",
    "    \n",
    "    def get_key(self):\n",
    "        return \"\".join([str(bit) for bit in self.sneaked_bits])\n"
   ]
  },
  {
   "cell_type": "code",
   "execution_count": 23,
   "metadata": {},
   "outputs": [
    {
     "name": "stdout",
     "output_type": "stream",
     "text": [
      "Bob: Vergleiche Bits [29, 9, 31, 49, 24, 54, 60, 44, 25, 23]...\n",
      "Validierung fehlgeschlagen! (Bob zu Alice)\n",
      "Validierung fehlgeschlagen! (Alice zu Bob)\n",
      "Alice: \tSchlüssel: 00111010011100110100101111001100010110100101011111000010000001 Validiert: False\n",
      "Bob: \tSchlüssel: 00111010011000010100000110001100010111100101001111010000100101 Validiert: False\n",
      "Eve: \tSchlüssel: 0x0x0x1x1x1x0x0x0x0x1x1x0x0x0x1x1x1x1x1x0x0x1x1x1x1x1x1x0x0x0x0x1x0x0x0x0x1x1x0x0x1x0x0x0x0x1x1x0x0x1x1x0x0x0x1x0x0x1x0x0x0x0x1x\n"
     ]
    }
   ],
   "source": [
    "alice = Alice()\n",
    "bob = Bob()\n",
    "eve = Eve()\n",
    "n = 128 # 128-bit Schlüssel\n",
    "qa = alice.step1_send_qbits(n)\n",
    "qa = eve.sneak(qa)\n",
    "b_ = bob.step2_measure_qbits(n, qa)\n",
    "a_ = alice.step3_compare_and_delete(b_)\n",
    "cmp_ind, cmp_b = bob.step4_compare_and_delete(a_)\n",
    "cmp_ind, cmp_a = alice.step5_validate(cmp_ind, cmp_b)\n",
    "bob.step6_validate(cmp_ind, cmp_a)\n",
    "print(f\"Alice: \\tSchlüssel: {alice.get_key()} Validiert: {alice.key_validated}\")\n",
    "print(f\"Bob: \\tSchlüssel: {bob.get_key()} Validiert: {bob.key_validated}\")\n",
    "print(f\"Eve: \\tSchlüssel: {eve.get_key()}\")"
   ]
  },
  {
   "cell_type": "markdown",
   "metadata": {},
   "source": [
    "**Erfolgreich:** Die Validierung schlägt fehl."
   ]
  },
  {
   "cell_type": "code",
   "execution_count": null,
   "metadata": {},
   "outputs": [],
   "source": []
  }
 ],
 "metadata": {
  "interpreter": {
   "hash": "dd2b533e38d9972dcef54a3128cf3b79b0ac47944ac6552b62f7fdd7eae568da"
  },
  "kernelspec": {
   "display_name": "Python 3.7.6 64-bit ('base': conda)",
   "language": "python",
   "name": "python3"
  },
  "language_info": {
   "codemirror_mode": {
    "name": "ipython",
    "version": 3
   },
   "file_extension": ".py",
   "mimetype": "text/x-python",
   "name": "python",
   "nbconvert_exporter": "python",
   "pygments_lexer": "ipython3",
   "version": "3.7.6"
  },
  "orig_nbformat": 4
 },
 "nbformat": 4,
 "nbformat_minor": 2
}
