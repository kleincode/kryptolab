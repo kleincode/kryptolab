{
 "cells": [
  {
   "cell_type": "markdown",
   "metadata": {},
   "source": [
    "# Task 2: Vigenere\n",
    "<i>Krypto Lab, Solution by Felix Kleinsteuber, 185 709</i>\n",
    "\n",
    "Schreibt ein Programm zur automatische Entschlüsselung von Vigenère.\n",
    "- Input: Verschlüsselter Lorem Ipsum Text\n",
    "- Gebt den Schlüssel und die Schlüssellänge aus."
   ]
  },
  {
   "cell_type": "markdown",
   "metadata": {},
   "source": [
    "## 1. Recycling from last week: Additive decryption"
   ]
  },
  {
   "cell_type": "code",
   "execution_count": 22,
   "metadata": {},
   "outputs": [],
   "source": [
    "# Reading a file completely\n",
    "def readFile(filename):\n",
    "    with open(filename, \"r\") as f:\n",
    "        return f.read()\n",
    "\n",
    "def writeFile(filename, content):\n",
    "    with open(filename, \"w\") as f:\n",
    "        return f.write(content)\n",
    "\n",
    "from collections import Counter\n",
    "\n",
    "# Automatic additive decryption\n",
    "def findKeyAdditive(content, most_common=\" \"):\n",
    "    counts = Counter(content).most_common(1)\n",
    "    return (ord(counts[0][0]) - ord(most_common)) % 128\n"
   ]
  },
  {
   "cell_type": "markdown",
   "metadata": {},
   "source": [
    "## 2. Calculate Index of Coincidence (IC)"
   ]
  },
  {
   "cell_type": "code",
   "execution_count": 4,
   "metadata": {},
   "outputs": [
    {
     "name": "stdout",
     "output_type": "stream",
     "text": [
      "Lorem ipsum IC: 0.07351515672947317\n",
      "Random text IC: 0.038461538461538464\n"
     ]
    }
   ],
   "source": [
    "# Returns the IC value for a given text\n",
    "def calc_ic(content):\n",
    "    counts = Counter(content).most_common()\n",
    "    n = len(content)\n",
    "    # IC formula\n",
    "    return 1 / (n * (n - 1)) * sum(h * (h - 1) for _, h in counts)\n",
    "\n",
    "# Test using Lorem ipsum:\n",
    "lorem = r\"Lorem ipsum dolor sit amet, consetetur sadipscing elitr, sed diam nonumy eirmod tempor invidunt ut labore et dolore magna aliquyam erat, sed diam voluptua. At vero eos et accusam et justo duo dolores et ea rebum. Stet clita kasd gubergren, no sea takimata sanctus est Lorem ipsum dolor sit amet. Lorem ipsum dolor sit amet, consetetur sadipscing elitr, sed diam nonumy eirmod tempor invidunt ut labore et dolore magna aliquyam erat, sed diam voluptua. At vero eos et accusam et justo duo dolores et ea rebum. Stet clita kasd gubergren, no sea takimata sanctus est Lorem ipsum dolor sit amet.\"\n",
    "print(\"Lorem ipsum IC:\", calc_ic(lorem))\n",
    "print(\"Random text IC:\", 1/26)"
   ]
  },
  {
   "cell_type": "markdown",
   "metadata": {},
   "source": [
    "## 3. Find out key length\n",
    "As we can see, the IC for Lorem ipsum texts is >0.07, whereas the IC of a random text is < 0.04. We can use this clear gap to define the rule:\n",
    "\n",
    "    The smallest key length with average IC > 0.07 is most likely the true key length."
   ]
  },
  {
   "cell_type": "code",
   "execution_count": 16,
   "metadata": {},
   "outputs": [],
   "source": [
    "# Returns the shortest key length with an average IC value >= threshold\n",
    "def calcKeyLength(content, min_val=1, max_val=100, threshold=0.07, verbose=False):\n",
    "    opt_key_length = 1\n",
    "    opt_ic = 0\n",
    "    for key_length in range(min_val, max_val + 1):\n",
    "        # Use average IC for all subtexts\n",
    "        avg_ic = sum(calc_ic(content[offset::key_length]) for offset in range(key_length)) / key_length\n",
    "        if verbose:\n",
    "            print(f\"Key length: {key_length} - IC: {avg_ic}\")\n",
    "        # IC high enough? Stop searching\n",
    "        if avg_ic >= threshold:\n",
    "            return key_length\n",
    "        elif avg_ic > opt_ic:\n",
    "            opt_key_length = key_length\n",
    "            opt_ic = avg_ic\n",
    "    return opt_key_length"
   ]
  },
  {
   "cell_type": "markdown",
   "metadata": {},
   "source": [
    "First test: We load the given Lorem ipsum files (Lorem1.txt - known key length: 3) and try to determine the key length automatically."
   ]
  },
  {
   "cell_type": "code",
   "execution_count": 17,
   "metadata": {},
   "outputs": [
    {
     "name": "stdout",
     "output_type": "stream",
     "text": [
      "Key length: 1 - IC: 0.037950122108870096\n",
      "Key length: 2 - IC: 0.03793914432725792\n",
      "Key length: 3 - IC: 0.07074343034592807\n",
      "Lorem1.txt - 3\n",
      "Key length: 1 - IC: 0.030770178565867428\n",
      "Key length: 2 - IC: 0.03599529731138498\n",
      "Key length: 3 - IC: 0.039557492746836544\n",
      "Key length: 4 - IC: 0.04145850919874842\n",
      "Key length: 5 - IC: 0.030813316645997006\n",
      "Key length: 6 - IC: 0.05102520195161165\n",
      "Key length: 7 - IC: 0.030758813396837222\n",
      "Key length: 8 - IC: 0.04144259459424841\n",
      "Key length: 9 - IC: 0.03953363117164174\n",
      "Key length: 10 - IC: 0.036071837252544675\n",
      "Key length: 11 - IC: 0.03073619546768608\n",
      "Key length: 12 - IC: 0.07066709618131563\n",
      "Lorem2.txt - 12\n",
      "Key length: 1 - IC: 0.029161516652549367\n",
      "Key length: 2 - IC: 0.02915982062244037\n",
      "Key length: 3 - IC: 0.03045065206044041\n",
      "Key length: 4 - IC: 0.029154361843660322\n",
      "Key length: 5 - IC: 0.029190944589104612\n",
      "Key length: 6 - IC: 0.030439953303931917\n",
      "Key length: 7 - IC: 0.029146568061626552\n",
      "Key length: 8 - IC: 0.02913614722304237\n",
      "Key length: 9 - IC: 0.03044615187465733\n",
      "Key length: 10 - IC: 0.029182747990329706\n",
      "Key length: 11 - IC: 0.02913869145362088\n",
      "Key length: 12 - IC: 0.0304352258709121\n",
      "Key length: 13 - IC: 0.029138431955418244\n",
      "Key length: 14 - IC: 0.02912877555873767\n",
      "Key length: 15 - IC: 0.030445053541372922\n",
      "Key length: 16 - IC: 0.02914167969455011\n",
      "Key length: 17 - IC: 0.029122738359258264\n",
      "Key length: 18 - IC: 0.03045880649511197\n",
      "Key length: 19 - IC: 0.041901049398185196\n",
      "Key length: 20 - IC: 0.029140591780315122\n",
      "Key length: 21 - IC: 0.0304243834791219\n",
      "Key length: 22 - IC: 0.0291170708775077\n",
      "Key length: 23 - IC: 0.029140163211156395\n",
      "Key length: 24 - IC: 0.030423988874540828\n",
      "Key length: 25 - IC: 0.029165556040833547\n",
      "Key length: 26 - IC: 0.02912212566028051\n",
      "Key length: 27 - IC: 0.030423775170051966\n",
      "Key length: 28 - IC: 0.029109414720781483\n",
      "Key length: 29 - IC: 0.02915441461747718\n",
      "Key length: 30 - IC: 0.030413866611961462\n",
      "Key length: 31 - IC: 0.029115925650305696\n",
      "Key length: 32 - IC: 0.02914323149538084\n",
      "Key length: 33 - IC: 0.030409235316953696\n",
      "Key length: 34 - IC: 0.0290988929357671\n",
      "Key length: 35 - IC: 0.02911652044079056\n",
      "Key length: 36 - IC: 0.030439846131819808\n",
      "Key length: 37 - IC: 0.029113784838412215\n",
      "Key length: 38 - IC: 0.04187863735821047\n",
      "Key length: 39 - IC: 0.030425588008202997\n",
      "Key length: 40 - IC: 0.0290896210522203\n",
      "Key length: 41 - IC: 0.029093814208980166\n",
      "Key length: 42 - IC: 0.030392180078874405\n",
      "Key length: 43 - IC: 0.02916827417823471\n",
      "Key length: 44 - IC: 0.029085947627805975\n",
      "Key length: 45 - IC: 0.03044150508772848\n",
      "Key length: 46 - IC: 0.02913207571364583\n",
      "Key length: 47 - IC: 0.029102740609610885\n",
      "Key length: 48 - IC: 0.030401403390479174\n",
      "Key length: 49 - IC: 0.029099846168352553\n",
      "Key length: 50 - IC: 0.029153043634753257\n",
      "Key length: 51 - IC: 0.03039861462040747\n",
      "Key length: 52 - IC: 0.029080729257828692\n",
      "Key length: 53 - IC: 0.029124945451912118\n",
      "Key length: 54 - IC: 0.030432566618664187\n",
      "Key length: 55 - IC: 0.029093463456395224\n",
      "Key length: 56 - IC: 0.029063695703348488\n",
      "Key length: 57 - IC: 0.07081279683579907\n",
      "Lorem3.txt - 57\n"
     ]
    }
   ],
   "source": [
    "for filename in [\"Lorem1.txt\", \"Lorem2.txt\", \"Lorem3.txt\"]:\n",
    "    print(filename, \"-\", calcKeyLength(readFile(filename), verbose=True))"
   ]
  },
  {
   "cell_type": "markdown",
   "metadata": {},
   "source": [
    "Successful! (key length of 3 for Lorem1.txt is correct)\n",
    "\n",
    "## 4. Find the key\n",
    "We define the encryption and decryption functions for the Vigenere chiffre. They work the same way as the additive chiffre functions, but expect the key to be an array, cycling through the array's entries using a modulo operation."
   ]
  },
  {
   "cell_type": "code",
   "execution_count": 19,
   "metadata": {},
   "outputs": [],
   "source": [
    "def encryptVigenere(content, key):\n",
    "    key_length = len(key)\n",
    "    return \"\".join(chr((ord(c) + key[i % key_length]) % 128) for i, c in enumerate(content))\n",
    "\n",
    "def decryptVigenere(content, key):\n",
    "    key_length = len(key)\n",
    "    return \"\".join(chr((ord(c) - key[i % key_length]) % 128) for i, c in enumerate(content))\n",
    "\n",
    "# Finds the optimal key length and then decrypts each subtext as an additive chiffre (see first task, 01_Additive)\n",
    "def autoDecryptVigenere(content):\n",
    "    key_length = calcKeyLength(content)\n",
    "    key = [findKeyAdditive(content[offset::key_length]) for offset in range(key_length)]\n",
    "    # Return key and decrypted text\n",
    "    return key, decryptVigenere(content, key)\n"
   ]
  },
  {
   "cell_type": "markdown",
   "metadata": {},
   "source": [
    "Test: We open all files and automatically decrypt them. The first 100 characters are printed, the whole text will be written to \"decrypted_{filename}\"."
   ]
  },
  {
   "cell_type": "code",
   "execution_count": 23,
   "metadata": {},
   "outputs": [
    {
     "name": "stdout",
     "output_type": "stream",
     "text": [
      "Lorem1.txt - Key: [115, 116, 122], ASCII: stz\n",
      "Decrypted message: QUISQUE RUTRUM. AENEAN IMPERDIET. ETIAM ULTRICIES NISI VEL AUGUE. CURABITUR ULLAMCORPER ULTRICIES NI ...\n",
      "Lorem2.txt - Key: [115, 116, 122, 117, 118, 120, 121, 115, 118, 117, 115, 116], ASCII: stzuvxysvust\n",
      "Decrypted message: ETIAM ULTRICIES NISI VEL AUGUE. CURABITUR ULLAMCORPER ULTRICIES NISI. NAM EGET DUI. ETIAM RHONCUS. M ...\n",
      "Lorem3.txt - Key: [115, 116, 122, 117, 118, 120, 121, 115, 118, 117, 115, 116, 115, 116, 117, 121, 122, 120, 119, 122, 121, 117, 115, 116, 118, 122, 119, 120, 121, 115, 119, 119, 116, 120, 121, 117, 122, 120, 119, 115, 116, 119, 120, 122, 121, 117, 115, 115, 116, 122, 117, 119, 119, 120, 117, 121, 122], ASCII: stzuvxysvuststuyzxwzyustvzwxyswwtxyuzxwstwxzyusstzuwwxuyz\n",
      "Decrypted message: CURABITUR ULLAMCORPER ULTRICIES NISI. NAM EGET DUI. ETIAM RHONCUS. MAECENAS TEMPUS. TELLUS EGET COND ...\n"
     ]
    }
   ],
   "source": [
    "for filename in [\"Lorem1.txt\", \"Lorem2.txt\", \"Lorem3.txt\"]:\n",
    "    key, decrypted = autoDecryptVigenere(readFile(filename))\n",
    "    asciiKey = \"\".join(chr(i) for i in key)\n",
    "    print(f\"{filename} - Key: {key}, ASCII: {asciiKey}\")\n",
    "    print(\"Decrypted message:\", decrypted[:100], \"...\")\n",
    "    writeFile(\"decrypted_\" + filename, decrypted)"
   ]
  },
  {
   "cell_type": "markdown",
   "metadata": {},
   "source": [
    "All results look well!"
   ]
  },
  {
   "cell_type": "markdown",
   "metadata": {},
   "source": []
  }
 ],
 "metadata": {
  "interpreter": {
   "hash": "dd2b533e38d9972dcef54a3128cf3b79b0ac47944ac6552b62f7fdd7eae568da"
  },
  "kernelspec": {
   "display_name": "Python 3.7.6 64-bit ('base': conda)",
   "name": "python3"
  },
  "language_info": {
   "codemirror_mode": {
    "name": "ipython",
    "version": 3
   },
   "file_extension": ".py",
   "mimetype": "text/x-python",
   "name": "python",
   "nbconvert_exporter": "python",
   "pygments_lexer": "ipython3",
   "version": "3.7.6"
  },
  "orig_nbformat": 4
 },
 "nbformat": 4,
 "nbformat_minor": 2
}
