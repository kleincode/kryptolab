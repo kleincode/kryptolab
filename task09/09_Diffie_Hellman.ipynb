{
 "cells": [
  {
   "cell_type": "code",
   "execution_count": 2,
   "metadata": {},
   "outputs": [],
   "source": [
    "import numpy as np\n",
    "import random"
   ]
  },
  {
   "cell_type": "markdown",
   "metadata": {},
   "source": [
    "## 1. Finde Primzahl p und Erzeuger g"
   ]
  },
  {
   "cell_type": "code",
   "execution_count": 3,
   "metadata": {},
   "outputs": [],
   "source": [
    "# aus Task 7 (RSA Keygen)\n",
    "def miller_rabin_test(n):\n",
    "    \"\"\"Ist n prim? Gibt mit p < 1/4 True zurück, falls n zusammengesetzt ist (False Positive)\n",
    "    und sicher True, falls n eine Primzahl ist.\"\"\"\n",
    "    assert n > 2\n",
    "    # Bestimme ungerades m mit n - 1 = 2^k * m\n",
    "    m = n - 1\n",
    "    k = 0\n",
    "    while m & 0b1 == 0:\n",
    "        m >>= 1\n",
    "        k += 1\n",
    "    \n",
    "    # Wähle zufälliges 2 <= a < n\n",
    "    a = random.randrange(2, n)\n",
    "\n",
    "    # b = a^m mod n\n",
    "    b = quad_and_mult(a, m, n)\n",
    "\n",
    "    if b == 1:\n",
    "        return True\n",
    "    for i in range(k):\n",
    "        if b == n - 1:\n",
    "            return True\n",
    "        else:\n",
    "            b = (b * b) % n\n",
    "    return False\n",
    "\n",
    "# aus Task 7 (RSA Keygen)\n",
    "def is_prime(n):\n",
    "    \"\"\"Gibt True zurück, wenn mit sehr hoher Wahrscheinlichkeit (0.999999) prim ist. \"\"\"\n",
    "    for i in range(10):\n",
    "        if miller_rabin_test(n) == False:\n",
    "            return False\n",
    "    # mit p > 1 - (1/4)**10 = 0.999999... ist n prim\n",
    "    return True"
   ]
  },
  {
   "cell_type": "code",
   "execution_count": 4,
   "metadata": {},
   "outputs": [],
   "source": [
    "# Abgewandelt von look_for_prime (RSA Keygen)\n",
    "def look_for_q(z):\n",
    "    # Sucht eine Primzahl q > 30 * z, sodass p = 2q + 1 prim\n",
    "    for i in [1, 7, 11, 13, 17, 19, 23, 29]:\n",
    "        q = 30 * z + i\n",
    "        if is_prime(q) and is_prime(2 * q + 1):\n",
    "            return q\n",
    "    # Keine Primzahl gefunden, erhöhe z\n",
    "    return look_for_q(z + 1)\n",
    "\n",
    "def find_pg(min_z=2**128, max_z=2**256):\n",
    "    q = look_for_q(random.randrange(min_z, max_z))\n",
    "    p = 2 * q + 1\n",
    "    # Als \"Erzeuger\" immer 2 verwenden\n",
    "    # (2 ist nicht zwingend immer Erzeuger aber erzeugt einen großen Teil von Z_p*)\n",
    "    return p, 2"
   ]
  },
  {
   "cell_type": "markdown",
   "metadata": {},
   "source": [
    "## 2. Diffie-Hellman"
   ]
  },
  {
   "cell_type": "code",
   "execution_count": 5,
   "metadata": {},
   "outputs": [],
   "source": [
    "# aus Task 6\n",
    "def quad_and_mult(x, m, n):\n",
    "    \"\"\"Berechnet effizient x^m mod n.\"\"\"\n",
    "    y = 1\n",
    "    while m != 0:\n",
    "        if m & 0x1 != 0:\n",
    "            # falls bit=1: Multipliziere y mit x\n",
    "            y = (y * x) % n\n",
    "        # für jedes Bit wird x quadriert\n",
    "        x = (x * x) % n\n",
    "        # schiebe zum nächsten Bit\n",
    "        m >>= 1\n",
    "    return y"
   ]
  },
  {
   "cell_type": "markdown",
   "metadata": {},
   "source": [
    "Einmal im Schnelldurchlauf:"
   ]
  },
  {
   "cell_type": "code",
   "execution_count": 7,
   "metadata": {},
   "outputs": [],
   "source": [
    "p, g = find_pg()\n",
    "a = random.randrange(2, p)\n",
    "b = random.randrange(2, p)\n",
    "A = quad_and_mult(g, a, p)\n",
    "B = quad_and_mult(g, b, p)\n",
    "S_A = quad_and_mult(B, a, p)\n",
    "S_B = quad_and_mult(A, b, p)\n",
    "assert S_A == S_B"
   ]
  },
  {
   "cell_type": "markdown",
   "metadata": {},
   "source": [
    "Getrennt für Alice und Bob:"
   ]
  },
  {
   "cell_type": "code",
   "execution_count": 11,
   "metadata": {},
   "outputs": [],
   "source": [
    "class Person:\n",
    "    def __init__(self, p, g):\n",
    "        self.p = p\n",
    "        self.g = g\n",
    "    \n",
    "    def shared_secret(self):\n",
    "        self.secret = random.randrange(2, self.p)\n",
    "        return quad_and_mult(self.g, self.secret, self.p)\n",
    "    \n",
    "    def get_key(self, other_shared_secret):\n",
    "        return quad_and_mult(other_shared_secret, self.secret, self.p)"
   ]
  },
  {
   "cell_type": "code",
   "execution_count": 12,
   "metadata": {},
   "outputs": [
    {
     "name": "stdout",
     "output_type": "stream",
     "text": [
      "Alice teilt 1122653294355921420776006846700441321863915218094988343316722768136042104209282\n",
      "Bob teilt 1587237227777655874044990020878476309970919602808200886502470406892828692092587\n",
      "Alice kennt den Schlüssel 1179867355655969665187300647335659186525352277125432558149335523154552606533927\n",
      "Bob kennt den Schlüssel 1179867355655969665187300647335659186525352277125432558149335523154552606533927\n"
     ]
    }
   ],
   "source": [
    "p, g = find_pg()\n",
    "# Beide kennen p, g\n",
    "Alice = Person(p, g)\n",
    "Bob = Person(p, g)\n",
    "\n",
    "A = Alice.shared_secret()\n",
    "print(f\"Alice teilt {A}\")\n",
    "B = Bob.shared_secret()\n",
    "print(f\"Bob teilt {B}\")\n",
    "\n",
    "S_A = Alice.get_key(B)\n",
    "print(f\"Alice kennt den Schlüssel {S_A}\")\n",
    "S_B = Bob.get_key(A)\n",
    "print(f\"Bob kennt den Schlüssel {S_B}\")\n",
    "assert S_A == S_B"
   ]
  },
  {
   "cell_type": "code",
   "execution_count": null,
   "metadata": {},
   "outputs": [],
   "source": []
  }
 ],
 "metadata": {
  "interpreter": {
   "hash": "dd2b533e38d9972dcef54a3128cf3b79b0ac47944ac6552b62f7fdd7eae568da"
  },
  "kernelspec": {
   "display_name": "Python 3.7.6 64-bit ('base': conda)",
   "name": "python3"
  },
  "language_info": {
   "codemirror_mode": {
    "name": "ipython",
    "version": 3
   },
   "file_extension": ".py",
   "mimetype": "text/x-python",
   "name": "python",
   "nbconvert_exporter": "python",
   "pygments_lexer": "ipython3",
   "version": "3.7.6"
  },
  "orig_nbformat": 4
 },
 "nbformat": 4,
 "nbformat_minor": 2
}
