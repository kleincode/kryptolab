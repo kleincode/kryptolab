{
 "cells": [
  {
   "cell_type": "markdown",
   "metadata": {},
   "source": [
    "# Task 7 - RSA Keygen\n",
    "Krypto Lab\n",
    "\n",
    "Felix Kleinsteuber, 185 709"
   ]
  },
  {
   "cell_type": "code",
   "execution_count": 1,
   "metadata": {},
   "outputs": [],
   "source": [
    "import random\n",
    "import numpy as np\n",
    "import math\n",
    "random.seed(1081)"
   ]
  },
  {
   "cell_type": "markdown",
   "metadata": {},
   "source": [
    "# 1. Randomisierter Primzahltest (Miller-Rabin)\n",
    "Der Miller-Rabin-Test ist ein randomisierter Primzahltest und gibt für Primzahlen sicher True, für zusammengesetzte Zahlen meist False zurück. Mit $p < \\frac{1}{4}$ gibt der Test jedoch auch für zusammengesetzte Zahlen True zurück. Durch $n$-malige Ausführung des Tests kann eine beliebige Zahl mit der Sicherheit $p = 1 - \\left(\\frac{1}{4}\\right)^n$ korrekt als Primzahl identifiziert werden (für $n=5: p > 0.999$, für $n = 10: p > 0.999999$)."
   ]
  },
  {
   "cell_type": "code",
   "execution_count": 2,
   "metadata": {},
   "outputs": [],
   "source": [
    "# kopiert aus Übung 6\n",
    "def quad_and_mult(x, m, n):\n",
    "    \"\"\"Berechnet effizient x^m mod n.\"\"\"\n",
    "    y = 1\n",
    "    while m != 0:\n",
    "        if m & 0x1 != 0:\n",
    "            # falls bit=1: Multipliziere y mit x\n",
    "            y = (y * x) % n\n",
    "        # für jedes Bit wird x quadriert\n",
    "        x = (x * x) % n\n",
    "        # schiebe zum nächsten Bit\n",
    "        m >>= 1\n",
    "    return y"
   ]
  },
  {
   "cell_type": "code",
   "execution_count": 4,
   "metadata": {},
   "outputs": [],
   "source": [
    "def miller_rabin_test(n):\n",
    "    \"\"\"Ist n prim? Gibt mit p < 1/4 True zurück, falls n zusammengesetzt ist (False Positive)\n",
    "    und sicher True, falls n eine Primzahl ist.\"\"\"\n",
    "    assert n > 2\n",
    "    # Bestimme ungerades m mit n - 1 = 2^k * m\n",
    "    m = n - 1\n",
    "    k = 0\n",
    "    # Solange m gerade\n",
    "    while m & 0b1 == 0:\n",
    "        m >>= 1\n",
    "        k += 1\n",
    "    \n",
    "    # Wähle zufälliges 2 <= a < n\n",
    "    a = random.randrange(2, n)\n",
    "\n",
    "    # b = a^m mod n\n",
    "    b = quad_and_mult(a, m, n)\n",
    "\n",
    "    if b == 1:\n",
    "        return True\n",
    "    for i in range(k):\n",
    "        if b == n - 1:\n",
    "            return True\n",
    "        else:\n",
    "            b = (b * b) % n\n",
    "    return False"
   ]
  },
  {
   "cell_type": "code",
   "execution_count": 6,
   "metadata": {},
   "outputs": [
    {
     "name": "stdout",
     "output_type": "stream",
     "text": [
      "[3, 4, 5, 6, 7, 8, 9, 10, 11, 12, 13]\n",
      "[True, False, True, False, True, False, False, False, True, False, True]\n"
     ]
    }
   ],
   "source": [
    "# Test miller_rabin_test\n",
    "print(list(range(3,14)))\n",
    "print([miller_rabin_test(n) for n in range(3, 14)])\n",
    "# Da der Test nur einmal aufgerufen wird, könnten auch fehlerhafte Ergebnisse vorkommen! (daher kein assert)"
   ]
  },
  {
   "cell_type": "markdown",
   "metadata": {},
   "source": [
    "# 2. Schlüsselgenerierung\n",
    "1. Wir generieren ausreichend große und unterschiedliche Primzahlen p, q mit $n = p \\cdot q, \\phi(n) = (p - 1) (q - 1)$. Ausreichend große Kandidaten werden durch wiederholte Ausführung des Miller-Rabin-Tests als Primzahlen identifiert.\n",
    "2. Wir generieren ein zu $\\phi(n)$ teilerfremdes $e$. Dass $e$ zu $\\phi(n)$ teilerfremd ist, verifizieren wir mit dem Erweiterten Euklidischen Algorithmus und erhalten dabei den Koeffizienten $d$, sodass $d \\cdot e \\equiv 1 \\mod \\phi(n)$.\n",
    "3. Der Public Key setzt sich aus $(e, n)$ und der Private Key aus $(d, n)$ zusammen.\n",
    "\n",
    "Liegen $p$ und $q$ zu nahe beieinander, ist eine Attacke mit dem Verfahren der Differenz der Quadrate möglich (siehe weiter unten)."
   ]
  },
  {
   "cell_type": "code",
   "execution_count": 7,
   "metadata": {},
   "outputs": [],
   "source": [
    "# kopiert aus Übung 6\n",
    "def extended_euclidian(a, b):\n",
    "    \"\"\" Berechnet ggT(a,b) = sa + tb = r und gibt r, s, t zurück. \"\"\"\n",
    "    r = [a, b]\n",
    "    s = [1, 0]\n",
    "    t = [0, 1]\n",
    "    while r[-1] != 0:\n",
    "        q = r[-2] // r[-1]\n",
    "        r.append(r[-2] - q * r[-1])\n",
    "        s.append(s[-2] - q * s[-1])\n",
    "        t.append(t[-2] - q * t[-1])\n",
    "    return r[-2], s[-2], t[-2]"
   ]
  },
  {
   "cell_type": "code",
   "execution_count": 8,
   "metadata": {},
   "outputs": [],
   "source": [
    "def is_prime(n):\n",
    "    \"\"\"Gibt True zurück, wenn mit sehr hoher Wahrscheinlichkeit (0.999999) prim ist. \"\"\"\n",
    "    # bis zu 10-fache Ausführung von Miller-Rabin\n",
    "    for i in range(10):\n",
    "        if miller_rabin_test(n) == False:\n",
    "            return False\n",
    "    # mit p > 1 - (1/4)**10 = 0.999999... ist n prim\n",
    "    return True\n",
    "\n",
    "def look_for_prime(z):\n",
    "    # Suche nach Primzahlen > 30 * z\n",
    "    for i in [1, 7, 11, 13, 17, 19, 23, 29]:\n",
    "        n = 30 * z + i\n",
    "        if is_prime(n):\n",
    "            return n\n",
    "    # Keine Primzahl gefunden, erhöhe z\n",
    "    return look_for_prime(z + 1)\n",
    "\n",
    "def gen_pq(min_z=2**128, max_z=2**256):\n",
    "    p = look_for_prime(random.randrange(min_z, max_z))\n",
    "    q = look_for_prime(random.randrange(min_z, max_z))\n",
    "    if p * 1.2 > q and q * 1.2 > p:\n",
    "        # p und q sind zu nah beieinander, nochmal versuchen\n",
    "        return gen_pq(min_z, max_z)\n",
    "    else:\n",
    "        return p, q\n",
    "\n",
    "def find_de(phi_n, min_e=2*10, max_e=2**60):\n",
    "    \"\"\"Gibt ein encrypt-decrypt key pair d, e zurück, sodass d*e mod phi(n) = 1.\"\"\"\n",
    "    while True:\n",
    "        e = random.randrange(min_e, max_e)\n",
    "        # Überprüfe, ob e teilerfremd zu phi(n) und bestimme im gleichen Schritt Inverses von e mod phi(n)\n",
    "        ggT, d, _ = extended_euclidian(e, phi_n)\n",
    "        if ggT == 1:\n",
    "            return d if d > 0 else phi_n + d, e"
   ]
  },
  {
   "cell_type": "code",
   "execution_count": 9,
   "metadata": {},
   "outputs": [
    {
     "name": "stdout",
     "output_type": "stream",
     "text": [
      "p: 3445385425009147875138849784065402885461426866561847874577207947473828540627051\n",
      "q: 2829963465970887404523392248931896222670022211810909047393362227331737551932713\n",
      "n: 9750314878964467090295182973806618332900357156722439522420521795121757960016524505050800296028376969617037714299112639349746869340849630776255942705979619363\n",
      "phi(n): 9750314878964467090295182973806618332900357156722439522420521795121757960016518229701909315993097307375004717000004507900668496583927660206081137139887059600\n",
      "d: 8139034288716078749087108087843653771418348790049310024258826424843867788778394567929973122559526208100065160496763629351403441497736929058932736848964162199\n",
      "e: 733587815216161799\n"
     ]
    }
   ],
   "source": [
    "p, q = gen_pq()\n",
    "n = p * q\n",
    "phi_n = (p - 1) * (q - 1)\n",
    "d, e = find_de(phi_n)\n",
    "assert (d * e) % phi_n == 1\n",
    "print(\"p:\", p)\n",
    "print(\"q:\", q)\n",
    "print(\"n:\", n)\n",
    "print(\"phi(n):\", phi_n)\n",
    "print(\"d:\", d)\n",
    "print(\"e:\", e)"
   ]
  },
  {
   "cell_type": "markdown",
   "metadata": {},
   "source": [
    "# 3. RSA Encrypt/Decrypt Test (Alles zusammen)\n",
    "Wir ver- und entschlüsseln eine Testsequenz mit den generierten Public und Private Keys."
   ]
  },
  {
   "cell_type": "code",
   "execution_count": 10,
   "metadata": {},
   "outputs": [],
   "source": [
    "# kopiert aus Task 6\n",
    "def rsa_encrypt(e, n, x):\n",
    "    assert np.all(x < n)\n",
    "    return np.array([quad_and_mult(x1, e, n) for x1 in x])\n",
    "\n",
    "def rsa_decrypt(d, n, y):\n",
    "    # äquivalent zu rsa_encrypt, aber der Übersichtlichkeit halber mit anderen Variablennamen\n",
    "    assert np.all(y < n)\n",
    "    return np.array([quad_and_mult(y1, d, n) for y1 in y])"
   ]
  },
  {
   "cell_type": "code",
   "execution_count": 11,
   "metadata": {},
   "outputs": [
    {
     "name": "stdout",
     "output_type": "stream",
     "text": [
      "Generiere ein Public-Key-Private-Key-Pair:\n",
      "((783751911744049273, 4787877286028231672376265365586519149519590774954818191847411957747125162854128620227651539548956454117595922625963560325750854584451937871279513101806040577), (3515802888762411672047729384114342319196041838565588267019964305425467055289981459110405606934625331966494081150041689516999678903161601996727627807093704009, 4787877286028231672376265365586519149519590774954818191847411957747125162854128620227651539548956454117595922625963560325750854584451937871279513101806040577))\n"
     ]
    }
   ],
   "source": [
    "# Alles zusammen\n",
    "def generate_keys(min_z=2**128, max_z=2**256, min_e=2**10, max_e=2**60):\n",
    "    p, q = gen_pq(min_z=min_z, max_z=max_z)\n",
    "    n = p * q\n",
    "    phi_n = (p - 1) * (q - 1)\n",
    "    d, e = find_de(phi_n, min_e=min_e, max_e=max_e)\n",
    "    return (e, n), (d, n)\n",
    "\n",
    "# Test\n",
    "print(\"Generiere ein Public-Key-Private-Key-Pair:\")\n",
    "print(generate_keys())"
   ]
  },
  {
   "cell_type": "code",
   "execution_count": 12,
   "metadata": {},
   "outputs": [
    {
     "name": "stdout",
     "output_type": "stream",
     "text": [
      "[42 21]\n"
     ]
    }
   ],
   "source": [
    "# Test mit Encrypt/Decrypt\n",
    "pubkey, privkey = generate_keys()\n",
    "inp = np.array([42, 21])\n",
    "enc = rsa_encrypt(*pubkey, inp)\n",
    "dec = rsa_decrypt(*privkey, enc)\n",
    "print(dec)\n",
    "assert np.array_equal(inp, dec)"
   ]
  },
  {
   "cell_type": "markdown",
   "metadata": {},
   "source": [
    "Funktioniert!"
   ]
  },
  {
   "cell_type": "markdown",
   "metadata": {},
   "source": [
    "# 4. Verfahren der Differenz der Quadrate\n",
    "Mit dem Verfahren der Differenz der Quadrate kann das Faktorisierungsproblem $p \\cdot q = n$ für $p \\approx q$ in kurzer Zeit gelöst werden. Wir wählen daher absichtlich nahe beieinander liegende $p$ und $q$ und suchen anschließend $u, w$ mit \n",
    "$$N = u^2 - w^2 \\Leftrightarrow N = (u - w)(u + w).$$\n",
    "\n",
    "Wir beginnen mit $u = \\lceil \\sqrt{N} \\rceil$ und inkrementieren $u$, bis es einen Integer-Kandidaten $w$ für die Gleichung gibt. Dann kennen wir $p = u + w, q = u - w$ ($p, q$ vertauschbar)."
   ]
  },
  {
   "cell_type": "code",
   "execution_count": 13,
   "metadata": {},
   "outputs": [
    {
     "name": "stdout",
     "output_type": "stream",
     "text": [
      "diff between p, q: 594\n"
     ]
    }
   ],
   "source": [
    "def gen_pq_unsafe(min_z=2**128, max_z=2**256, z_diff = 10):\n",
    "    # Generiere ein p wie üblich\n",
    "    p = look_for_prime(random.randrange(min_z, max_z))\n",
    "    # Generiere q nahe zu p (Unterscheidung um ca. 30 * z_diff)\n",
    "    q = look_for_prime(p // 30 + z_diff)\n",
    "    return p, q\n",
    "\n",
    "eps = np.finfo(np.float32).eps\n",
    "\n",
    "# Gibt den ganzzahligen Anteil der Wurzel zurück (Newton-Methode).\n",
    "# np.sqrt und math.sqrt arbeiten beide mit Gleitkommazahlen und sind daher für große\n",
    "# Zahlen sehr ungenau. Ab Python 3.8 gibt es math.isqrt(n).\n",
    "def isqrt(n):\n",
    "    x = n\n",
    "    y = (x + 1) // 2\n",
    "    while y < x:\n",
    "        x = y\n",
    "        y = (x + n // x) // 2\n",
    "    return x\n",
    "\n",
    "def is_square(k):\n",
    "    return isqrt(k) ** 2 == k\n",
    "\n",
    "# Test\n",
    "p, q = gen_pq_unsafe()\n",
    "print(\"diff between p, q:\", q - p)\n",
    "assert is_square(41) == False\n",
    "assert is_square(36) == True"
   ]
  },
  {
   "cell_type": "code",
   "execution_count": 14,
   "metadata": {},
   "outputs": [
    {
     "name": "stdout",
     "output_type": "stream",
     "text": [
      "p: 62217902190058217017864755123882278918766080813095468667600034260065544922137\n",
      "q: 62217902190058217017864755123882278918766080813095468667600034260065544922497\n",
      "diff between p, q: 360\n",
      "p': 62217902190058217017864755123882278918766080813095468667600034260065544922497\n",
      "q': 62217902190058217017864755123882278918766080813095468667600034260065544922137\n",
      "p'*q': 3871067352931651077546609023113186990901417527937524830036949967244915139682108112796607107676956881002317531632050877333418851080800773297681541564616089\n"
     ]
    }
   ],
   "source": [
    "# Verfahren der Differenz der Quadrate: Löst das Faktorisierungsproblem, d.h. liefert p und q, sodass p * q = n.\n",
    "def diff_squares(n):\n",
    "    u = isqrt(n) + 1\n",
    "    assert u * u >= n\n",
    "    while not is_square(u * u - n):\n",
    "        u += 1\n",
    "    w = isqrt(u * u - n)\n",
    "    return u + w, u - w\n",
    "\n",
    "\n",
    "# Tests\n",
    "p, q = gen_pq_unsafe()\n",
    "print(\"p:\", p)\n",
    "print(\"q:\", q)\n",
    "print(\"diff between p, q:\", q - p)\n",
    "p_, q_ = diff_squares(p * q)\n",
    "print(\"p':\", p_)\n",
    "print(\"q':\", q_)\n",
    "print(\"p'*q':\", p_ * q_)\n",
    "assert max(p, q) == p_ and min(p, q) == q_"
   ]
  },
  {
   "cell_type": "markdown",
   "metadata": {},
   "source": [
    "Funktioniert!"
   ]
  }
 ],
 "metadata": {
  "interpreter": {
   "hash": "dd2b533e38d9972dcef54a3128cf3b79b0ac47944ac6552b62f7fdd7eae568da"
  },
  "kernelspec": {
   "display_name": "Python 3.7.6 64-bit ('base': conda)",
   "name": "python3"
  },
  "language_info": {
   "codemirror_mode": {
    "name": "ipython",
    "version": 3
   },
   "file_extension": ".py",
   "mimetype": "text/x-python",
   "name": "python",
   "nbconvert_exporter": "python",
   "pygments_lexer": "ipython3",
   "version": "3.7.6"
  },
  "orig_nbformat": 4
 },
 "nbformat": 4,
 "nbformat_minor": 2
}
