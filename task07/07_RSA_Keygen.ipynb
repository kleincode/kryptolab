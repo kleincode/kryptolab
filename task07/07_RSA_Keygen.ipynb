{
 "cells": [
  {
   "cell_type": "code",
   "execution_count": 3,
   "metadata": {},
   "outputs": [],
   "source": [
    "import random\n",
    "import numpy as np\n",
    "import math\n",
    "random.seed(1081)"
   ]
  },
  {
   "cell_type": "markdown",
   "metadata": {},
   "source": [
    "# 1. Randomisierter Primzahltest (Miller-Rabin)\n",
    "Der Miller-Rabin-Test ist ein randomisierter Primzahltest und gibt für Primzahlen sicher True, für zusammengesetzte Zahlen meist False zurück. Mit $p < \\frac{1}{4}$ gibt der Test jedoch auch für zusammengesetzte Zahlen True zurück. Durch $n$-malige Ausführung des Tests kann eine beliebige Zahl mit der Sicherheit $p = 1 - \\left(\\frac{1}{4}\\right)^n$ korrekt als Primzahl identifiziert werden (für $n=5: p > 0.999$, für $n = 10: p > 0.999999$)."
   ]
  },
  {
   "cell_type": "code",
   "execution_count": 4,
   "metadata": {},
   "outputs": [],
   "source": [
    "# kopiert aus Übung 6\n",
    "def quad_and_mult(x, m, n):\n",
    "    \"\"\"Berechnet effizient x^m mod n.\"\"\"\n",
    "    y = 1\n",
    "    while m != 0:\n",
    "        if m & 0x1 != 0:\n",
    "            # falls bit=1: Multipliziere y mit x\n",
    "            y = (y * x) % n\n",
    "        # für jedes Bit wird x quadriert\n",
    "        x = (x * x) % n\n",
    "        # schiebe zum nächsten Bit\n",
    "        m >>= 1\n",
    "    return y"
   ]
  },
  {
   "cell_type": "code",
   "execution_count": 5,
   "metadata": {},
   "outputs": [],
   "source": [
    "def miller_rabin_test(n):\n",
    "    \"\"\"Ist n prim? Gibt mit p < 1/4 True zurück, falls n zusammengesetzt ist (False Positive)\n",
    "    und sicher True, falls n eine Primzahl ist.\"\"\"\n",
    "    assert n > 2\n",
    "    # Bestimme ungerades m mit n - 1 = 2^k * m\n",
    "    m = n - 1\n",
    "    k = 0\n",
    "    while m & 0b1 == 0:\n",
    "        m >>= 1\n",
    "        k += 1\n",
    "    \n",
    "    # Wähle zufälliges 2 <= a < n\n",
    "    a = random.randrange(2, n)\n",
    "\n",
    "    # b = a^m mod n\n",
    "    b = quad_and_mult(a, m, n)\n",
    "\n",
    "    if b == 1:\n",
    "        return True\n",
    "    for i in range(k):\n",
    "        if b == n - 1:\n",
    "            return True\n",
    "        else:\n",
    "            b = (b * b) % n\n",
    "    return False"
   ]
  },
  {
   "cell_type": "code",
   "execution_count": 6,
   "metadata": {},
   "outputs": [
    {
     "name": "stdout",
     "output_type": "stream",
     "text": [
      "[3, 4, 5, 6, 7, 8, 9, 10, 11, 12, 13]\n",
      "[True, False, True, False, True, False, False, False, True, False, True]\n"
     ]
    }
   ],
   "source": [
    "# Test miller_rabin_test\n",
    "print(list(range(3,14)))\n",
    "print([miller_rabin_test(n) for n in range(3, 14)])"
   ]
  },
  {
   "cell_type": "markdown",
   "metadata": {},
   "source": [
    "# 2. Schlüsselgenerierung\n",
    "1. Wir generieren ausreichend große und unterschiedliche Primzahlen p, q mit $n = p \\cdot q, \\phi(n) = (p - 1) (q - 1)$. Ausreichend große Kandidaten werden durch wiederholte Ausführung des Miller-Rabin-Tests als Primzahlen identifiert.\n",
    "2. Wir generieren ein zu $\\phi(n)$ teilerfremdes $e$. Dass $e$ zu $\\phi(n)$ teilerfremd ist, verifizieren wir mit dem Erweiterten Euklidischen Algorithmus und erhalten dabei den Koeffizienten $d$, sodass $d \\cdot e \\equiv 1 \\mod \\phi(n)$.\n",
    "3. Der Public Key setzt sich aus $(e, n)$ und der Private Key aus $(d, n)$ zusammen."
   ]
  },
  {
   "cell_type": "code",
   "execution_count": 7,
   "metadata": {},
   "outputs": [],
   "source": [
    "# kopiert aus Übung 6\n",
    "def extended_euclidian(a, b):\n",
    "    \"\"\" Berechnet ggT(a,b) = sa + tb = r und gibt r, s, t zurück. \"\"\"\n",
    "    r = [a, b]\n",
    "    s = [1, 0]\n",
    "    t = [0, 1]\n",
    "    while r[-1] != 0:\n",
    "        q = r[-2] // r[-1]\n",
    "        r.append(r[-2] - q * r[-1])\n",
    "        s.append(s[-2] - q * s[-1])\n",
    "        t.append(t[-2] - q * t[-1])\n",
    "    return r[-2], s[-2], t[-2]"
   ]
  },
  {
   "cell_type": "code",
   "execution_count": 8,
   "metadata": {},
   "outputs": [],
   "source": [
    "def is_prime(n):\n",
    "    \"\"\"Gibt True zurück, wenn mit sehr hoher Wahrscheinlichkeit (0.999999) prim ist. \"\"\"\n",
    "    for i in range(10):\n",
    "        if miller_rabin_test(n) == False:\n",
    "            return False\n",
    "    # mit p > 1 - (1/4)**10 = 0.999999... ist n prim\n",
    "    return True\n",
    "\n",
    "def look_for_prime(z):\n",
    "    for i in [1, 7, 11, 13, 17, 19, 23, 29]:\n",
    "        n = 30 * z + i\n",
    "        if is_prime(n):\n",
    "            return n\n",
    "    # Keine Primzahl gefunden, erhöhe z\n",
    "    return look_for_prime(z + 1)\n",
    "\n",
    "def gen_pq(min_z=2**128, max_z=2**256):\n",
    "    p = look_for_prime(random.randrange(min_z, max_z))\n",
    "    q = look_for_prime(random.randrange(min_z, max_z))\n",
    "    if p * 1.2 > q and q * 1.2 > p:\n",
    "        # p und q sind zu nah beieinander, nochmal versuchen\n",
    "        return gen_pq(min_z, max_z)\n",
    "    else:\n",
    "        return p, q\n",
    "\n",
    "def find_de(phi_n, min_e=2*10, max_e=2**60):\n",
    "    \"\"\"Gibt ein encrypt-decrypt key pair d, e zurück, sodass d*e mod phi(n) = 1.\"\"\"\n",
    "    while True:\n",
    "        e = random.randrange(min_e, max_e)\n",
    "        ggT, d, _ = extended_euclidian(e, phi_n)\n",
    "        if ggT == 1:\n",
    "            return d if d > 0 else phi_n + d, e"
   ]
  },
  {
   "cell_type": "code",
   "execution_count": 9,
   "metadata": {},
   "outputs": [
    {
     "name": "stdout",
     "output_type": "stream",
     "text": [
      "p: 2150379798722374366935330928776655599638999232734262374367709893408548294191849\n",
      "q: 375860145825717830128486496379257379598337120092417385047419579355164652793669\n",
      "n: 808242064728469385653767189449014217949107052233725383595383193397100216381491869385447241469366249460215823319154809183840296738060716935081787424498603981\n",
      "phi(n): 808242064728469385653767189449014217949107052233725383595383193397100216381489343145502693377169185642790667406175571847487470058301301805609023711551618464\n",
      "d: 201129097788718582993648654069022923025301695687037290252329482375532261360533821861567081594558872233163764111715707973382724678850585096542358739710304951\n",
      "e: 247108950979156103\n"
     ]
    }
   ],
   "source": [
    "p, q = gen_pq()\n",
    "n = p * q\n",
    "phi_n = (p - 1) * (q - 1)\n",
    "d, e = find_de(phi_n)\n",
    "assert (d * e) % phi_n == 1\n",
    "print(\"p:\", p)\n",
    "print(\"q:\", q)\n",
    "print(\"n:\", n)\n",
    "print(\"phi(n):\", phi_n)\n",
    "print(\"d:\", d)\n",
    "print(\"e:\", e)"
   ]
  },
  {
   "cell_type": "markdown",
   "metadata": {},
   "source": [
    "# 3. RSA Encrypt/Decrypt Test (Alles zusammen)\n",
    "Wir ver- und entschlüsseln eine Testsequenz mit den generierten Public und Private Keys."
   ]
  },
  {
   "cell_type": "code",
   "execution_count": 10,
   "metadata": {},
   "outputs": [],
   "source": [
    "def rsa_encrypt(e, n, x):\n",
    "    assert np.all(x < n)\n",
    "    return np.array([quad_and_mult(x1, e, n) for x1 in x])\n",
    "\n",
    "def rsa_decrypt(d, n, y):\n",
    "    # äquivalent zu rsa_encrypt, aber der Übersichtlichkeit halber mit anderen Variablennamen\n",
    "    assert np.all(y < n)\n",
    "    return np.array([quad_and_mult(y1, d, n) for y1 in y])"
   ]
  },
  {
   "cell_type": "code",
   "execution_count": 11,
   "metadata": {},
   "outputs": [
    {
     "name": "stdout",
     "output_type": "stream",
     "text": [
      "Generiere ein Public-Key-Private-Key-Pair:\n",
      "((268904207548548853, 676118092638154685549156611155916013926251581347982521652394044822929915562241855613713514287638760446377270791166484662810196819708407187201000854267836523), (283888750604775043984141261287592561760039819777201773667310555542064522330029800093378790213353403302757634735115291575904638141962189802430291176615467197, 676118092638154685549156611155916013926251581347982521652394044822929915562241855613713514287638760446377270791166484662810196819708407187201000854267836523))\n"
     ]
    }
   ],
   "source": [
    "# Alles zusammen\n",
    "def generate_keys(min_z=2**128, max_z=2**256, min_e=2**10, max_e=2**60):\n",
    "    p, q = gen_pq(min_z=min_z, max_z=max_z)\n",
    "    n = p * q\n",
    "    phi_n = (p - 1) * (q - 1)\n",
    "    d, e = find_de(phi_n, min_e=min_e, max_e=max_e)\n",
    "    return (e, n), (d, n)\n",
    "\n",
    "# Test\n",
    "print(\"Generiere ein Public-Key-Private-Key-Pair:\")\n",
    "print(generate_keys())"
   ]
  },
  {
   "cell_type": "code",
   "execution_count": 12,
   "metadata": {},
   "outputs": [
    {
     "name": "stdout",
     "output_type": "stream",
     "text": [
      "[42 21]\n"
     ]
    }
   ],
   "source": [
    "# Test mit Encrypt/Decrypt\n",
    "pubkey, privkey = generate_keys()\n",
    "inp = np.array([42, 21])\n",
    "enc = rsa_encrypt(*pubkey, inp)\n",
    "dec = rsa_decrypt(*privkey, enc)\n",
    "print(dec)\n",
    "assert np.array_equal(inp, dec)"
   ]
  },
  {
   "cell_type": "markdown",
   "metadata": {},
   "source": [
    "# 4. Verfahren der Differenz der Quadrate\n",
    "Mit dem Verfahren der Differenz der Quadrate kann das Faktorisierungsproblem $p \\cdot q = n$ für $p \\approx q$ in kurzer Zeit gelöst werden. Wir wählen daher absichtlich nahe beieinander liegende $p$ und $q$ und suchen anschließend $u, w$ mit \n",
    "$$N = u^2 - w^2 \\Leftrightarrow N = (u - w)(u + w).$$\n",
    "\n",
    "Wir beginnen mit $u = \\lceil \\sqrt{N} \\rceil$ und inkrementieren $u$, bis es einen Integer-Kandidaten $w$ für die Gleichung gibt. Dann kennen wir $p = u + w, q = u - w$ ($p, q$ vertauschbar)."
   ]
  },
  {
   "cell_type": "code",
   "execution_count": 27,
   "metadata": {},
   "outputs": [
    {
     "name": "stdout",
     "output_type": "stream",
     "text": [
      "diff between p, q: 512\n"
     ]
    }
   ],
   "source": [
    "def gen_pq_unsafe(min_z=2**128, max_z=2**256, z_diff = 10):\n",
    "    # Generiere ein p wie üblich\n",
    "    p = look_for_prime(random.randrange(min_z, max_z))\n",
    "    # Generiere q nahe zu p (Unterscheidung um ca. 30 * z_diff)\n",
    "    q = look_for_prime(p // 30 + z_diff)\n",
    "    return p, q\n",
    "\n",
    "eps = np.finfo(np.float32).eps\n",
    "\n",
    "# Gibt den ganzzahligen Anteil der Wurzel zurück (Newton-Methode).\n",
    "# np.sqrt und math.sqrt arbeiten beide mit Gleitkommazahlen und sind daher für große\n",
    "# Zahlen sehr ungenau. Ab Python 3.8 gibt es math.isqrt(n).\n",
    "def isqrt(n):\n",
    "    x = n\n",
    "    y = (x + 1) // 2\n",
    "    while y < x:\n",
    "        x = y\n",
    "        y = (x + n // x) // 2\n",
    "    return x\n",
    "\n",
    "def is_square(k):\n",
    "    return isqrt(k) ** 2 == k\n",
    "\n",
    "# Test\n",
    "p, q = gen_pq_unsafe()\n",
    "print(\"diff between p, q:\", q - p)\n",
    "assert is_square(41) == False\n",
    "assert is_square(36) == True"
   ]
  },
  {
   "cell_type": "code",
   "execution_count": 30,
   "metadata": {},
   "outputs": [
    {
     "name": "stdout",
     "output_type": "stream",
     "text": [
      "p: 3212061058639712164810294860056946133427697737053636860265847842798710910715383\n",
      "q: 3212061058639712164810294860056946133427697737053636860265847842798710910715671\n",
      "diff between p, q: 288\n",
      "p': 3212061058639712164810294860056946133427697737053636860265847842798710910715671\n",
      "q': 3212061058639712164810294860056946133427697737053636860265847842798710910715383\n",
      "p'*q': 10317336244429668430241283808779226528640350028297057664513522984364504513420054432464984732039687462364613944596329903442568551679534176581494543111118866993\n"
     ]
    }
   ],
   "source": [
    "# Verfahren der Differenz der Quadrate: Liefert p und q zurück, sodass p * q = n.\n",
    "def diff_squares(n):\n",
    "    u = isqrt(n) + 1\n",
    "    assert u * u >= n\n",
    "    while not is_square(u * u - n):\n",
    "        u += 1\n",
    "    w = isqrt(u * u - n)\n",
    "    return u + w, u - w\n",
    "\n",
    "\n",
    "# Tests\n",
    "p, q = gen_pq_unsafe()\n",
    "print(\"p:\", p)\n",
    "print(\"q:\", q)\n",
    "print(\"diff between p, q:\", q - p)\n",
    "p_, q_ = diff_squares(p * q)\n",
    "print(\"p':\", p_)\n",
    "print(\"q':\", q_)\n",
    "print(\"p'*q':\", p_ * q_)\n",
    "assert max(p, q) == p_ and min(p, q) == q_"
   ]
  },
  {
   "cell_type": "code",
   "execution_count": null,
   "metadata": {},
   "outputs": [],
   "source": []
  }
 ],
 "metadata": {
  "interpreter": {
   "hash": "dd2b533e38d9972dcef54a3128cf3b79b0ac47944ac6552b62f7fdd7eae568da"
  },
  "kernelspec": {
   "display_name": "Python 3.7.6 64-bit ('base': conda)",
   "name": "python3"
  },
  "language_info": {
   "codemirror_mode": {
    "name": "ipython",
    "version": 3
   },
   "file_extension": ".py",
   "mimetype": "text/x-python",
   "name": "python",
   "nbconvert_exporter": "python",
   "pygments_lexer": "ipython3",
   "version": "3.7.6"
  },
  "orig_nbformat": 4
 },
 "nbformat": 4,
 "nbformat_minor": 2
}
