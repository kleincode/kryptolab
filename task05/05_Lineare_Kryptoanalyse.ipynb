{
 "cells": [
  {
   "cell_type": "markdown",
   "metadata": {},
   "source": [
    "# Task 5 - Lineare Kryptoanalyse\n",
    "Krypto Lab\n",
    "\n",
    "Felix Kleinsteuber, 185 709\n",
    "\n",
    "Die Lineare Kryptoanalyse ist ein Angriff gegen Substitutions-Permutations-Netzwerke wie AES oder DES. Sie erfordert allerdings näherungsweise lineare Substitutionen (S-Boxen), um effektiv zu sein. Daher sind AES und DES nur wenig anfällig gegenüber linearer Kryptoanalyse und dennoch sicher."
   ]
  },
  {
   "cell_type": "code",
   "execution_count": 1,
   "metadata": {},
   "outputs": [],
   "source": [
    "import random\n",
    "import numpy as np\n",
    "import matplotlib.pyplot as plt\n",
    "from tqdm.notebook import tqdm"
   ]
  },
  {
   "cell_type": "markdown",
   "metadata": {},
   "source": [
    "## 1. SPN implementieren\n",
    "Substitutions-Permutations-Netzwerke sind Verknüpfungen der folgenden Bauteile:\n",
    "1. Lokale Substitution\n",
    "2. Globale Permutation\n",
    "3. Schlüsseladdition\n",
    "\n",
    "Wir nehmen hier 4 Runden aus Substitution, Permutation und Schlüsseladdition an. In der letzten Runde erfolgt keine Permutation. Zu Beginn erfolgt wieder eine Schlüsseladdition (analog zu AES). Alle Schlüssel, Permutationen und S-Boxen sind identisch und durch Konstanten definiert (s_box, perms). Die Eingabe und Ausgabe des SPN ist 16 bit groß, die Substitution erfolgt auf 4 Blöcken à 4 bit."
   ]
  },
  {
   "cell_type": "code",
   "execution_count": 6,
   "metadata": {},
   "outputs": [],
   "source": [
    "# Implementiert das gegebene Substitutions-Permutations-Netzwerk mit 4 Runden\n",
    "class SPN:\n",
    "\n",
    "    s_box = [0xE, 0x4, 0xD, 0x1, 0x2, 0xF, 0xB, 0x8, 0x3, 0xA, 0x6, 0xC, 0x5, 0x9, 0x0, 0x7]\n",
    "    perms = [0, 4, 8, 12, 1, 5, 9, 13, 2, 6, 10, 14, 3, 7, 11, 15]\n",
    "\n",
    "    # Richtig abgeschrieben?\n",
    "    assert sum(perms) == sum(range(16))\n",
    "\n",
    "    def __init__(self, key = 0):\n",
    "        self.key = key\n",
    "\n",
    "    # Substitutionsbauteil 16 bit -> 16 bit\n",
    "    def __substitution(self, val, inv=False):\n",
    "        new_val = 0\n",
    "        # Substituiere blockweise\n",
    "        for b in range(4):\n",
    "            block = (val >> (4 * b)) & 0xf\n",
    "            sub = SPN.s_box.index(block) if inv else SPN.s_box[block]\n",
    "            new_val ^= sub << (4 * b)\n",
    "        return new_val\n",
    "    \n",
    "    # Permutationsbauteil 16 bit -> 16 bit\n",
    "    def __permutation(self, val):\n",
    "        new_val = 0\n",
    "        # Permutiere bitweise\n",
    "        for b in range(16):\n",
    "            bit = val & 0x1\n",
    "            new_val ^= bit << SPN.perms[b]\n",
    "            val >>= 1\n",
    "        return new_val\n",
    "    \n",
    "    # Durchläuft das komplette SPN mit val als Eingabe\n",
    "    def forward(self, val):\n",
    "        for i in range(3):\n",
    "            # Key Addition\n",
    "            val ^= self.key\n",
    "            val = self.__substitution(val)\n",
    "            val = self.__permutation(val)\n",
    "        val ^= self.key\n",
    "        val = self.__substitution(val)\n",
    "        val ^= self.key\n",
    "        return val\n",
    "    \n",
    "    # Rechnet die letzte Schlüsseladdition und Substitution zurück\n",
    "    def back_to_u4(self, cryptotext, custom_key):\n",
    "        return self.__substitution(cryptotext ^ custom_key, inv=True)\n",
    "\n",
    "            \n"
   ]
  },
  {
   "cell_type": "code",
   "execution_count": 3,
   "metadata": {},
   "outputs": [],
   "source": [
    "spn = SPN(random.getrandbits(16))\n",
    "# Substitution Test\n",
    "assert spn._SPN__substitution(0x15CD) == 0x4F59\n",
    "assert spn._SPN__substitution(0x4F59, inv=True) == 0x15CD\n",
    "# Ist Substitution reversibel?\n",
    "assert np.all([spn._SPN__substitution(spn._SPN__substitution(val), inv=True) == val for val in range(16)])"
   ]
  },
  {
   "cell_type": "markdown",
   "metadata": {},
   "source": [
    "## 2. Klartext-Kryptotext-Paare generieren\n",
    "Die Lineare Kryptoanalyse funktioniert statistisch, das heißt, wir benötigen eine große Menge an Klartext-Kryptotext-Paaren."
   ]
  },
  {
   "cell_type": "code",
   "execution_count": 5,
   "metadata": {},
   "outputs": [
    {
     "name": "stdout",
     "output_type": "stream",
     "text": [
      "8000\n"
     ]
    }
   ],
   "source": [
    "# Klartext-Kryptotext-Paare (M-C-Paare) generieren\n",
    "\n",
    "random_pairs = True\n",
    "if random_pairs:\n",
    "    num_pairs = 8000 # max: 2^16 = 65536\n",
    "    M = [random.getrandbits(16) for i in range(num_pairs)]\n",
    "else:\n",
    "    # Ungünstig, da so einige Bits immer gleich bleiben!\n",
    "    M = [i for i in range(0, 2 ** 16, 2 ** 3)]\n",
    "    num_pairs = len(M)\n",
    "C = [spn.forward(m) for m in M]\n",
    "print(num_pairs)\n"
   ]
  },
  {
   "cell_type": "markdown",
   "metadata": {},
   "source": [
    "## 3. Lineare Kryptoanalyse\n",
    "Wir testen alle möglichen Schlüsselbits im zweiten und vierten Block. Die Schlüsselbits, für die der Erwartungswert der linearen Approximation über alle Klartext-Kryptotext-Paare am stärksten von 0.5 abweicht, sind wahrscheinlich die richtigen."
   ]
  },
  {
   "cell_type": "code",
   "execution_count": 7,
   "metadata": {},
   "outputs": [],
   "source": [
    "# Bit an Stelle\n",
    "def bit_at(val, bit):\n",
    "    return (val >> (16 - bit)) & 0x1\n",
    "\n",
    "# Konvertiere 2-block key in 4-block key (mit 1., 3. Block Nullen)\n",
    "def expand_key(key_2blocks):\n",
    "    return ((key_2blocks & 0xf0) << 4) ^ (key_2blocks & 0xf)"
   ]
  },
  {
   "cell_type": "code",
   "execution_count": 8,
   "metadata": {},
   "outputs": [],
   "source": [
    "def lca_analyze(M, C):\n",
    "    assert len(M) == len(C)\n",
    "    key_hits = np.zeros(2 ** 8, dtype=np.int)\n",
    "\n",
    "    # Lineare Kryptoanalyse: Wir probieren auf 8 bit\n",
    "    for key_2blocks in tqdm(range(2 ** 8)):\n",
    "        # Baue key aus den gegebenen 2 Blocks\n",
    "        key = expand_key(key_2blocks)\n",
    "        for m, c in zip(M, C):\n",
    "            # Output Vektor\n",
    "            u = spn.back_to_u4(c, key)\n",
    "            # Berechne Wert der linearen Approximation\n",
    "            val = bit_at(m, 5) ^ bit_at(m, 7) ^ bit_at(m, 8) ^ bit_at(u, 6) ^ bit_at(u, 8) ^ bit_at(u, 14) ^ bit_at(u, 16)\n",
    "            if val == 0:\n",
    "                key_hits[key_2blocks] += 1\n",
    "    return np.abs(key_hits / len(M) - 0.5)\n"
   ]
  },
  {
   "cell_type": "code",
   "execution_count": 9,
   "metadata": {},
   "outputs": [
    {
     "data": {
      "application/vnd.jupyter.widget-view+json": {
       "model_id": "3fe649d0b5eb41519fc471918f158cef",
       "version_major": 2,
       "version_minor": 0
      },
      "text/plain": [
       "HBox(children=(FloatProgress(value=0.0, max=256.0), HTML(value='')))"
      ]
     },
     "metadata": {},
     "output_type": "display_data"
    },
    {
     "name": "stdout",
     "output_type": "stream",
     "text": [
      "\n"
     ]
    }
   ],
   "source": [
    "key_scores = lca_analyze(M, C)"
   ]
  },
  {
   "cell_type": "code",
   "execution_count": 10,
   "metadata": {},
   "outputs": [
    {
     "name": "stdout",
     "output_type": "stream",
     "text": [
      "Bester Score: 0.041000000000000036 at key 0xc0d\n",
      "Echter Key: 0x1ccd\n",
      "Score für echten Key: 0.041000000000000036 (#1 von 256)\n"
     ]
    },
    {
     "data": {
      "image/png": "[encoded data removed]",
      "text/plain": [
       "<Figure size 800x400 with 2 Axes>"
      ]
     },
     "metadata": {
      "needs_background": "light"
     },
     "output_type": "display_data"
    }
   ],
   "source": [
    "best_keys = np.argsort(key_scores)[::-1]\n",
    "print(\"Bester Score:\", key_scores[best_keys[0]], \"at key\", hex(expand_key(best_keys[0])))\n",
    "print(\"Echter Key:\", hex(spn.key))\n",
    "real_key_2blocks = ((spn.key & 0xf00) >> 4) ^ (spn.key & 0xf)\n",
    "print(\"Score für echten Key:\", key_scores[real_key_2blocks], f\"(#{np.where(best_keys == real_key_2blocks)[0][0]+1} von {key_scores.shape[0]})\")\n",
    "\n",
    "# Visualisierung\n",
    "\n",
    "plt.figure(figsize=(10, 5), dpi=80)\n",
    "plt.subplot(1, 2, 1)\n",
    "plt.plot(np.arange(len(key_scores)), key_scores)\n",
    "plt.plot(real_key_2blocks, key_scores[real_key_2blocks], \"ro\", label=\"Real key\")\n",
    "plt.legend()\n",
    "plt.title(\"Unsortierte Key Scores\")\n",
    "plt.subplot(1, 2, 2)\n",
    "plt.plot(np.arange(len(key_scores)), key_scores[best_keys])\n",
    "plt.plot(np.where(best_keys == real_key_2blocks)[0][0], key_scores[real_key_2blocks], \"ro\", label=\"Real key\")\n",
    "plt.legend()\n",
    "plt.title(\"Sortierte Key Scores\")\n",
    "plt.show()"
   ]
  },
  {
   "cell_type": "markdown",
   "metadata": {},
   "source": [
    "Der echte Key liegt meist auf den ersten 10 Plätzen."
   ]
  },
  {
   "cell_type": "markdown",
   "metadata": {},
   "source": [
    "## 4. Brute Force\n",
    "Wir führen Brute Force über die noch unbekannten Blöcke 1 und 3 aus ($2^8$ Möglichkeiten)."
   ]
  },
  {
   "cell_type": "code",
   "execution_count": 11,
   "metadata": {},
   "outputs": [],
   "source": [
    "# Gibt true zurück, falls ein SPN mit key aus M erfolgreich C generiert\n",
    "def check_key(key, M, C):\n",
    "    spn = SPN(key)\n",
    "    for m, c in zip(M, C):\n",
    "        if spn.forward(m) != c:\n",
    "            return False\n",
    "    return True\n",
    "\n",
    "# Teste für realen und für falschen Key\n",
    "assert check_key(spn.key, M, C)\n",
    "assert not check_key(spn.key + 1, M, C)\n",
    "\n",
    "# Gegeben Block 2 und 4 sowie Block 1 und 3, baue 4-block Schlüssel zusammen\n",
    "def mix_2blocks(block24, block13):\n",
    "    return ((block24 & 0xf0) << 4) ^ (block24 & 0xf) ^ ((block13 & 0xf0) << 8) ^ ((block13 & 0xf) << 4)\n",
    "\n",
    "# Führe Brute Force auf 1. und 3. Block aus (Block 2, 4 durch LCA bekannt)\n",
    "def brute_force_key(known_2blocks, M, C):\n",
    "    for unknown_2blocks in range(2 ** 8):\n",
    "        key = mix_2blocks(known_2blocks, unknown_2blocks)\n",
    "        if check_key(key, M, C):\n",
    "            return key\n",
    "    return None\n",
    "\n",
    "# Funktioniert Brute Force?\n",
    "assert brute_force_key(real_key_2blocks, M, C) == spn.key"
   ]
  },
  {
   "cell_type": "markdown",
   "metadata": {},
   "source": [
    "## 5. Alles zusammen\n",
    "Die Methode find_key bestimmt über lineare Kryptoanalyse die wahrscheinlichsten Schlüsselbits für Blöcke 2 und 4 und testet die restlichen Schlüsselbits per Brute Force solange, bis der reale Schlüssel gefunden wurde."
   ]
  },
  {
   "cell_type": "code",
   "execution_count": 12,
   "metadata": {},
   "outputs": [],
   "source": [
    "# Finde den Key, der genutzt wurde, um mit einem SPN C aus M zu generieren\n",
    "def find_key(M, C):\n",
    "    key_scores = lca_analyze(M, C)\n",
    "    best_keys = np.argsort(key_scores)[::-1]\n",
    "    for known_2blocks in best_keys:\n",
    "        key = brute_force_key(known_2blocks, M, C)\n",
    "        if key is not None:\n",
    "            return key\n",
    "    return None"
   ]
  },
  {
   "cell_type": "code",
   "execution_count": 13,
   "metadata": {},
   "outputs": [
    {
     "data": {
      "application/vnd.jupyter.widget-view+json": {
       "model_id": "4feb8a2827ca4134b8e60fb6406630a6",
       "version_major": 2,
       "version_minor": 0
      },
      "text/plain": [
       "HBox(children=(FloatProgress(value=0.0, max=256.0), HTML(value='')))"
      ]
     },
     "metadata": {},
     "output_type": "display_data"
    },
    {
     "name": "stdout",
     "output_type": "stream",
     "text": [
      "\n",
      "found key: 0x1ccd\n"
     ]
    }
   ],
   "source": [
    "found_key = find_key(M, C)\n",
    "print(\"found key:\", hex(found_key))"
   ]
  },
  {
   "cell_type": "markdown",
   "metadata": {},
   "source": [
    "## 6. Nur Brute Force\n",
    "Hier brute-forcen wir einfach alle möglichen Schlüssel ($2^{16}$ Möglichkeiten)."
   ]
  },
  {
   "cell_type": "code",
   "execution_count": 14,
   "metadata": {},
   "outputs": [],
   "source": [
    "def pure_brute_force_key(M, C):\n",
    "    for key in tqdm(range(2**16)):\n",
    "        if check_key(key, M, C):\n",
    "            return key\n",
    "    return None"
   ]
  },
  {
   "cell_type": "code",
   "execution_count": 15,
   "metadata": {},
   "outputs": [
    {
     "data": {
      "application/vnd.jupyter.widget-view+json": {
       "model_id": "69abfa6c33584d38a2cb7f4fe5b44dc5",
       "version_major": 2,
       "version_minor": 0
      },
      "text/plain": [
       "HBox(children=(FloatProgress(value=0.0, max=65536.0), HTML(value='')))"
      ]
     },
     "metadata": {},
     "output_type": "display_data"
    },
    {
     "name": "stdout",
     "output_type": "stream",
     "text": [
      "found key: 0x1ccd\n"
     ]
    }
   ],
   "source": [
    "found_key = pure_brute_force_key(M, C)\n",
    "print(\"found key:\", hex(found_key))"
   ]
  },
  {
   "cell_type": "markdown",
   "metadata": {},
   "source": [
    "Wie erwartet ist Brute Force in diesem primitiven SPN (mit kleiner Schlüsselgröße von 16 bit) um Größenordnungen schneller als die lineare Kryptoanalyse. Für kompliziertere Beispiele wäre das nicht zwingend der Fall."
   ]
  }
 ],
 "metadata": {
  "interpreter": {
   "hash": "dd2b533e38d9972dcef54a3128cf3b79b0ac47944ac6552b62f7fdd7eae568da"
  },
  "kernelspec": {
   "display_name": "Python 3.7.6 64-bit ('base': conda)",
   "name": "python3"
  },
  "language_info": {
   "codemirror_mode": {
    "name": "ipython",
    "version": 3
   },
   "file_extension": ".py",
   "mimetype": "text/x-python",
   "name": "python",
   "nbconvert_exporter": "python",
   "pygments_lexer": "ipython3",
   "version": "3.7.6"
  },
  "orig_nbformat": 4
 },
 "nbformat": 4,
 "nbformat_minor": 2
}
